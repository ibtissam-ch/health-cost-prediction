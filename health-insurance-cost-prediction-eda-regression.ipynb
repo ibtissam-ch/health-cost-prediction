{
 "cells": [
  {
   "cell_type": "markdown",
   "id": "137dc4b5",
   "metadata": {
    "papermill": {
     "duration": 0.039514,
     "end_time": "2022-12-23T21:33:27.352608",
     "exception": false,
     "start_time": "2022-12-23T21:33:27.313094",
     "status": "completed"
    },
    "tags": []
   },
   "source": [
    "# Health Insurance Cost Prediction"
   ]
  },
  {
   "cell_type": "markdown",
   "id": "d3672cc1",
   "metadata": {
    "papermill": {
     "duration": 0.033527,
     "end_time": "2022-12-23T21:33:27.422164",
     "exception": false,
     "start_time": "2022-12-23T21:33:27.388637",
     "status": "completed"
    },
    "tags": []
   },
   "source": [
    "# 1. Importing the libraries"
   ]
  },
  {
   "cell_type": "markdown",
   "id": "b788ea47",
   "metadata": {
    "papermill": {
     "duration": 0.032857,
     "end_time": "2022-12-23T21:33:27.489575",
     "exception": false,
     "start_time": "2022-12-23T21:33:27.456718",
     "status": "completed"
    },
    "tags": []
   },
   "source": [
    "A Python library is a collection of related modules. It contains bundles of code that can be used repeatedly in different programs. It makes Python Programming simpler and convenient for the programmer. As we don't need to write the same code again and again for different programs.\n",
    "\n",
    "In this notebook, we will be using the following libraries."
   ]
  },
  {
   "cell_type": "code",
   "execution_count": 1,
   "id": "5cc6a0ae",
   "metadata": {
    "execution": {
     "iopub.execute_input": "2022-12-23T21:33:27.562392Z",
     "iopub.status.busy": "2022-12-23T21:33:27.561097Z",
     "iopub.status.idle": "2022-12-23T21:33:30.309777Z",
     "shell.execute_reply": "2022-12-23T21:33:30.308326Z"
    },
    "papermill": {
     "duration": 2.788773,
     "end_time": "2022-12-23T21:33:30.312863",
     "exception": false,
     "start_time": "2022-12-23T21:33:27.524090",
     "status": "completed"
    },
    "tags": []
   },
   "outputs": [],
   "source": [
    "### Data Wrangling \n",
    "\n",
    "import pandas as pd\n",
    "import missingno\n",
    "from collections import Counter\n",
    "from collections import OrderedDict\n",
    "\n",
    "### Data Visualization\n",
    "\n",
    "import matplotlib.pyplot as plt\n",
    "import seaborn as sns\n",
    "\n",
    "### Data Preprocessing\n",
    "\n",
    "\n",
    "from scipy import stats\n",
    "\n",
    "### Modelling \n",
    "\n",
    "from sklearn.model_selection import train_test_split\n",
    "from math import sqrt\n",
    "from sklearn.metrics import mean_squared_error, r2_score\n",
    "from sklearn.linear_model import LinearRegression\n",
    "from sklearn.tree import DecisionTreeRegressor\n",
    "from sklearn.ensemble import RandomForestRegressor\n",
    "from sklearn.ensemble import StackingRegressor\n",
    "import xgboost as xg\n",
    "\n",
    "### Tabulating the results\n",
    "\n",
    "from tabulate import tabulate\n",
    "\n",
    "### Remove unnecessary warnings\n",
    "\n",
    "import warnings\n",
    "warnings.filterwarnings('ignore')"
   ]
  },
  {
   "cell_type": "markdown",
   "id": "d51809ee",
   "metadata": {
    "papermill": {
     "duration": 0.033681,
     "end_time": "2022-12-23T21:33:30.381568",
     "exception": false,
     "start_time": "2022-12-23T21:33:30.347887",
     "status": "completed"
    },
    "tags": []
   },
   "source": [
    "# 2. Importing the data"
   ]
  },
  {
   "cell_type": "markdown",
   "id": "c3c33c4a",
   "metadata": {
    "papermill": {
     "duration": 0.034333,
     "end_time": "2022-12-23T21:33:30.450591",
     "exception": false,
     "start_time": "2022-12-23T21:33:30.416258",
     "status": "completed"
    },
    "tags": []
   },
   "source": [
    "In this section, I will fetch the dataset .\n",
    "\n",
    "\n",
    "For the training set, we have the outcome (also known as the “ground truth”) for each customer. the model will be based on “features” like Age, Sex, BMI, Children, etc.\n",
    "\n",
    "The test set will be used to see how well the model performs on unseen data. For each customer, our task is to predict the Health Insurance Cost Price for that customer."
   ]
  },
  {
   "cell_type": "code",
   "execution_count": 2,
   "id": "5c7452a5",
   "metadata": {
    "execution": {
     "iopub.execute_input": "2022-12-23T21:33:30.522596Z",
     "iopub.status.busy": "2022-12-23T21:33:30.521735Z",
     "iopub.status.idle": "2022-12-23T21:33:30.561247Z",
     "shell.execute_reply": "2022-12-23T21:33:30.560064Z"
    },
    "papermill": {
     "duration": 0.078667,
     "end_time": "2022-12-23T21:33:30.564345",
     "exception": false,
     "start_time": "2022-12-23T21:33:30.485678",
     "status": "completed"
    },
    "tags": []
   },
   "outputs": [],
   "source": [
    "### Fetching the dataset\n",
    "\n",
    "dataset = pd.read_csv(r'C:\\Users\\Ibtissam\\Downloads\\insurance.csv')"
   ]
  },
  {
   "cell_type": "code",
   "execution_count": 3,
   "id": "f6275382",
   "metadata": {
    "execution": {
     "iopub.execute_input": "2022-12-23T21:33:30.637352Z",
     "iopub.status.busy": "2022-12-23T21:33:30.636506Z",
     "iopub.status.idle": "2022-12-23T21:33:30.662939Z",
     "shell.execute_reply": "2022-12-23T21:33:30.661441Z"
    },
    "papermill": {
     "duration": 0.065668,
     "end_time": "2022-12-23T21:33:30.665837",
     "exception": false,
     "start_time": "2022-12-23T21:33:30.600169",
     "status": "completed"
    },
    "tags": []
   },
   "outputs": [
    {
     "data": {
      "text/html": [
       "<div>\n",
       "<style scoped>\n",
       "    .dataframe tbody tr th:only-of-type {\n",
       "        vertical-align: middle;\n",
       "    }\n",
       "\n",
       "    .dataframe tbody tr th {\n",
       "        vertical-align: top;\n",
       "    }\n",
       "\n",
       "    .dataframe thead th {\n",
       "        text-align: right;\n",
       "    }\n",
       "</style>\n",
       "<table border=\"1\" class=\"dataframe\">\n",
       "  <thead>\n",
       "    <tr style=\"text-align: right;\">\n",
       "      <th></th>\n",
       "      <th>age</th>\n",
       "      <th>sex</th>\n",
       "      <th>bmi</th>\n",
       "      <th>children</th>\n",
       "      <th>smoker</th>\n",
       "      <th>region</th>\n",
       "      <th>charges</th>\n",
       "    </tr>\n",
       "  </thead>\n",
       "  <tbody>\n",
       "    <tr>\n",
       "      <th>0</th>\n",
       "      <td>19</td>\n",
       "      <td>female</td>\n",
       "      <td>27.900</td>\n",
       "      <td>0</td>\n",
       "      <td>yes</td>\n",
       "      <td>southwest</td>\n",
       "      <td>16884.92400</td>\n",
       "    </tr>\n",
       "    <tr>\n",
       "      <th>1</th>\n",
       "      <td>18</td>\n",
       "      <td>male</td>\n",
       "      <td>33.770</td>\n",
       "      <td>1</td>\n",
       "      <td>no</td>\n",
       "      <td>southeast</td>\n",
       "      <td>1725.55230</td>\n",
       "    </tr>\n",
       "    <tr>\n",
       "      <th>2</th>\n",
       "      <td>28</td>\n",
       "      <td>male</td>\n",
       "      <td>33.000</td>\n",
       "      <td>3</td>\n",
       "      <td>no</td>\n",
       "      <td>southeast</td>\n",
       "      <td>4449.46200</td>\n",
       "    </tr>\n",
       "    <tr>\n",
       "      <th>3</th>\n",
       "      <td>33</td>\n",
       "      <td>male</td>\n",
       "      <td>22.705</td>\n",
       "      <td>0</td>\n",
       "      <td>no</td>\n",
       "      <td>northwest</td>\n",
       "      <td>21984.47061</td>\n",
       "    </tr>\n",
       "    <tr>\n",
       "      <th>4</th>\n",
       "      <td>32</td>\n",
       "      <td>male</td>\n",
       "      <td>28.880</td>\n",
       "      <td>0</td>\n",
       "      <td>no</td>\n",
       "      <td>northwest</td>\n",
       "      <td>3866.85520</td>\n",
       "    </tr>\n",
       "    <tr>\n",
       "      <th>5</th>\n",
       "      <td>31</td>\n",
       "      <td>female</td>\n",
       "      <td>25.740</td>\n",
       "      <td>0</td>\n",
       "      <td>no</td>\n",
       "      <td>southeast</td>\n",
       "      <td>3756.62160</td>\n",
       "    </tr>\n",
       "    <tr>\n",
       "      <th>6</th>\n",
       "      <td>46</td>\n",
       "      <td>female</td>\n",
       "      <td>33.440</td>\n",
       "      <td>1</td>\n",
       "      <td>no</td>\n",
       "      <td>southeast</td>\n",
       "      <td>8240.58960</td>\n",
       "    </tr>\n",
       "    <tr>\n",
       "      <th>7</th>\n",
       "      <td>37</td>\n",
       "      <td>female</td>\n",
       "      <td>27.740</td>\n",
       "      <td>3</td>\n",
       "      <td>no</td>\n",
       "      <td>northwest</td>\n",
       "      <td>7281.50560</td>\n",
       "    </tr>\n",
       "    <tr>\n",
       "      <th>8</th>\n",
       "      <td>37</td>\n",
       "      <td>male</td>\n",
       "      <td>29.830</td>\n",
       "      <td>2</td>\n",
       "      <td>no</td>\n",
       "      <td>northeast</td>\n",
       "      <td>6406.41070</td>\n",
       "    </tr>\n",
       "    <tr>\n",
       "      <th>9</th>\n",
       "      <td>60</td>\n",
       "      <td>female</td>\n",
       "      <td>25.840</td>\n",
       "      <td>0</td>\n",
       "      <td>no</td>\n",
       "      <td>northwest</td>\n",
       "      <td>28923.13692</td>\n",
       "    </tr>\n",
       "  </tbody>\n",
       "</table>\n",
       "</div>"
      ],
      "text/plain": [
       "   age     sex     bmi  children smoker     region      charges\n",
       "0   19  female  27.900         0    yes  southwest  16884.92400\n",
       "1   18    male  33.770         1     no  southeast   1725.55230\n",
       "2   28    male  33.000         3     no  southeast   4449.46200\n",
       "3   33    male  22.705         0     no  northwest  21984.47061\n",
       "4   32    male  28.880         0     no  northwest   3866.85520\n",
       "5   31  female  25.740         0     no  southeast   3756.62160\n",
       "6   46  female  33.440         1     no  southeast   8240.58960\n",
       "7   37  female  27.740         3     no  northwest   7281.50560\n",
       "8   37    male  29.830         2     no  northeast   6406.41070\n",
       "9   60  female  25.840         0     no  northwest  28923.13692"
      ]
     },
     "execution_count": 3,
     "metadata": {},
     "output_type": "execute_result"
    }
   ],
   "source": [
    "### Looking at the sample data in the dataset\n",
    "\n",
    "dataset.head(10)"
   ]
  },
  {
   "cell_type": "code",
   "execution_count": 4,
   "id": "fc85c85f",
   "metadata": {
    "execution": {
     "iopub.execute_input": "2022-12-23T21:33:30.735545Z",
     "iopub.status.busy": "2022-12-23T21:33:30.735053Z",
     "iopub.status.idle": "2022-12-23T21:33:30.743347Z",
     "shell.execute_reply": "2022-12-23T21:33:30.742185Z"
    },
    "papermill": {
     "duration": 0.046766,
     "end_time": "2022-12-23T21:33:30.746173",
     "exception": false,
     "start_time": "2022-12-23T21:33:30.699407",
     "status": "completed"
    },
    "tags": []
   },
   "outputs": [
    {
     "data": {
      "text/plain": [
       "(1338, 7)"
      ]
     },
     "execution_count": 4,
     "metadata": {},
     "output_type": "execute_result"
    }
   ],
   "source": [
    "### Shape of the dataset\n",
    "\n",
    "dataset.shape\n"
   ]
  },
  {
   "cell_type": "markdown",
   "id": "2b9228bc",
   "metadata": {
    "papermill": {
     "duration": 0.03533,
     "end_time": "2022-12-23T21:33:30.816469",
     "exception": false,
     "start_time": "2022-12-23T21:33:30.781139",
     "status": "completed"
    },
    "tags": []
   },
   "source": [
    "The dataset consists of 7 columns and 1338 rows."
   ]
  },
  {
   "cell_type": "markdown",
   "id": "e459fa0b",
   "metadata": {
    "papermill": {
     "duration": 0.033973,
     "end_time": "2022-12-23T21:33:30.884430",
     "exception": false,
     "start_time": "2022-12-23T21:33:30.850457",
     "status": "completed"
    },
    "tags": []
   },
   "source": [
    "# 3. Exploratory Data Analysis"
   ]
  },
  {
   "cell_type": "markdown",
   "id": "0268b37a",
   "metadata": {
    "papermill": {
     "duration": 0.034245,
     "end_time": "2022-12-23T21:33:30.952871",
     "exception": false,
     "start_time": "2022-12-23T21:33:30.918626",
     "status": "completed"
    },
    "tags": []
   },
   "source": [
    "Exploratory Data Analysis refers to the critical process of performing initial investigations on data so as to discover patterns,to spot anomalies,to test hypothesis and to check assumptions with the help of summary statistics and graphical representations.\n",
    "\n",
    "Here, we will perform EDA on the categorical columns of the dataset - Sex, Smoker, Region and the numerical columns of the dataset - Age, BMI, Children, Charges."
   ]
  },
  {
   "cell_type": "markdown",
   "id": "3f76eb44",
   "metadata": {
    "papermill": {
     "duration": 0.033439,
     "end_time": "2022-12-23T21:33:31.021131",
     "exception": false,
     "start_time": "2022-12-23T21:33:30.987692",
     "status": "completed"
    },
    "tags": []
   },
   "source": [
    "#### 3.1 Datatypes, Missing Data, and Summary Statistics"
   ]
  },
  {
   "cell_type": "code",
   "execution_count": 5,
   "id": "40c76ff0",
   "metadata": {
    "execution": {
     "iopub.execute_input": "2022-12-23T21:33:31.092415Z",
     "iopub.status.busy": "2022-12-23T21:33:31.091913Z",
     "iopub.status.idle": "2022-12-23T21:33:31.125152Z",
     "shell.execute_reply": "2022-12-23T21:33:31.123169Z"
    },
    "papermill": {
     "duration": 0.073169,
     "end_time": "2022-12-23T21:33:31.128452",
     "exception": false,
     "start_time": "2022-12-23T21:33:31.055283",
     "status": "completed"
    },
    "tags": []
   },
   "outputs": [
    {
     "name": "stdout",
     "output_type": "stream",
     "text": [
      "<class 'pandas.core.frame.DataFrame'>\n",
      "RangeIndex: 1338 entries, 0 to 1337\n",
      "Data columns (total 7 columns):\n",
      " #   Column    Non-Null Count  Dtype  \n",
      "---  ------    --------------  -----  \n",
      " 0   age       1338 non-null   int64  \n",
      " 1   sex       1338 non-null   object \n",
      " 2   bmi       1338 non-null   float64\n",
      " 3   children  1338 non-null   int64  \n",
      " 4   smoker    1338 non-null   object \n",
      " 5   region    1338 non-null   object \n",
      " 6   charges   1338 non-null   float64\n",
      "dtypes: float64(2), int64(2), object(3)\n",
      "memory usage: 73.3+ KB\n"
     ]
    }
   ],
   "source": [
    "### Looking at the datatypes of the dataset\n",
    "\n",
    "dataset.info()"
   ]
  },
  {
   "cell_type": "markdown",
   "id": "8156e17e",
   "metadata": {
    "papermill": {
     "duration": 0.034845,
     "end_time": "2022-12-23T21:33:31.197508",
     "exception": false,
     "start_time": "2022-12-23T21:33:31.162663",
     "status": "completed"
    },
    "tags": []
   },
   "source": [
    "Here, the columns - Sex, Smoker, and Region are categorical. Hence, we modify the datatypes of these column to category."
   ]
  },
  {
   "cell_type": "code",
   "execution_count": 6,
   "id": "08fd899e",
   "metadata": {
    "execution": {
     "iopub.execute_input": "2022-12-23T21:33:31.269371Z",
     "iopub.status.busy": "2022-12-23T21:33:31.268820Z",
     "iopub.status.idle": "2022-12-23T21:33:31.281031Z",
     "shell.execute_reply": "2022-12-23T21:33:31.279511Z"
    },
    "papermill": {
     "duration": 0.052812,
     "end_time": "2022-12-23T21:33:31.284694",
     "exception": false,
     "start_time": "2022-12-23T21:33:31.231882",
     "status": "completed"
    },
    "tags": []
   },
   "outputs": [],
   "source": [
    "### Modifying the datatypes of the columns to category\n",
    "\n",
    "dataset.sex = dataset.sex.astype('category')\n",
    "dataset.smoker = dataset.smoker.astype('category')\n",
    "dataset.region = dataset.region.astype('category')"
   ]
  },
  {
   "cell_type": "markdown",
   "id": "a65aa7c3",
   "metadata": {
    "papermill": {
     "duration": 0.033224,
     "end_time": "2022-12-23T21:33:31.351481",
     "exception": false,
     "start_time": "2022-12-23T21:33:31.318257",
     "status": "completed"
    },
    "tags": []
   },
   "source": [
    "Looking at the modified datatypes of the columns in the dataset."
   ]
  },
  {
   "cell_type": "code",
   "execution_count": 7,
   "id": "888af1f5",
   "metadata": {
    "execution": {
     "iopub.execute_input": "2022-12-23T21:33:31.424186Z",
     "iopub.status.busy": "2022-12-23T21:33:31.423672Z",
     "iopub.status.idle": "2022-12-23T21:33:31.443088Z",
     "shell.execute_reply": "2022-12-23T21:33:31.441027Z"
    },
    "papermill": {
     "duration": 0.060992,
     "end_time": "2022-12-23T21:33:31.447367",
     "exception": false,
     "start_time": "2022-12-23T21:33:31.386375",
     "status": "completed"
    },
    "tags": []
   },
   "outputs": [
    {
     "name": "stdout",
     "output_type": "stream",
     "text": [
      "<class 'pandas.core.frame.DataFrame'>\n",
      "RangeIndex: 1338 entries, 0 to 1337\n",
      "Data columns (total 7 columns):\n",
      " #   Column    Non-Null Count  Dtype   \n",
      "---  ------    --------------  -----   \n",
      " 0   age       1338 non-null   int64   \n",
      " 1   sex       1338 non-null   category\n",
      " 2   bmi       1338 non-null   float64 \n",
      " 3   children  1338 non-null   int64   \n",
      " 4   smoker    1338 non-null   category\n",
      " 5   region    1338 non-null   category\n",
      " 6   charges   1338 non-null   float64 \n",
      "dtypes: category(3), float64(2), int64(2)\n",
      "memory usage: 46.3 KB\n"
     ]
    }
   ],
   "source": [
    "### Looking at the modified datatypes of the dataset\n",
    "\n",
    "dataset.info()"
   ]
  },
  {
   "cell_type": "markdown",
   "id": "d532bc9f",
   "metadata": {
    "papermill": {
     "duration": 0.034021,
     "end_time": "2022-12-23T21:33:31.517120",
     "exception": false,
     "start_time": "2022-12-23T21:33:31.483099",
     "status": "completed"
    },
    "tags": []
   },
   "source": [
    "From the above data, we can see that the datatypes of these columns are modified to category. Now, lets check if the dataset has any missing values or not."
   ]
  },
  {
   "cell_type": "code",
   "execution_count": 8,
   "id": "f99d8d73",
   "metadata": {
    "execution": {
     "iopub.execute_input": "2022-12-23T21:33:31.588334Z",
     "iopub.status.busy": "2022-12-23T21:33:31.587864Z",
     "iopub.status.idle": "2022-12-23T21:33:32.363410Z",
     "shell.execute_reply": "2022-12-23T21:33:32.361903Z"
    },
    "papermill": {
     "duration": 0.81508,
     "end_time": "2022-12-23T21:33:32.366523",
     "exception": false,
     "start_time": "2022-12-23T21:33:31.551443",
     "status": "completed"
    },
    "tags": []
   },
   "outputs": [
    {
     "data": {
      "text/plain": [
       "<AxesSubplot:>"
      ]
     },
     "execution_count": 8,
     "metadata": {},
     "output_type": "execute_result"
    },
    {
     "data": {
      "image/png": "[encoded data removed]",
      "text/plain": [
       "<Figure size 1800x720 with 2 Axes>"
      ]
     },
     "metadata": {
      "needs_background": "light"
     },
     "output_type": "display_data"
    }
   ],
   "source": [
    "### Visual representation of the missing data in the dataset\n",
    "\n",
    "missingno.matrix(dataset)"
   ]
  },
  {
   "cell_type": "markdown",
   "id": "0de5f20b",
   "metadata": {
    "papermill": {
     "duration": 0.039224,
     "end_time": "2022-12-23T21:33:32.441906",
     "exception": false,
     "start_time": "2022-12-23T21:33:32.402682",
     "status": "completed"
    },
    "tags": []
   },
   "source": [
    "From the above figure, we can see that there are no missing values in the dataset."
   ]
  },
  {
   "cell_type": "code",
   "execution_count": 9,
   "id": "5f6701ff",
   "metadata": {
    "execution": {
     "iopub.execute_input": "2022-12-23T21:33:32.514384Z",
     "iopub.status.busy": "2022-12-23T21:33:32.513880Z",
     "iopub.status.idle": "2022-12-23T21:33:32.547230Z",
     "shell.execute_reply": "2022-12-23T21:33:32.545989Z"
    },
    "papermill": {
     "duration": 0.072498,
     "end_time": "2022-12-23T21:33:32.549898",
     "exception": false,
     "start_time": "2022-12-23T21:33:32.477400",
     "status": "completed"
    },
    "tags": []
   },
   "outputs": [
    {
     "data": {
      "text/html": [
       "<div>\n",
       "<style scoped>\n",
       "    .dataframe tbody tr th:only-of-type {\n",
       "        vertical-align: middle;\n",
       "    }\n",
       "\n",
       "    .dataframe tbody tr th {\n",
       "        vertical-align: top;\n",
       "    }\n",
       "\n",
       "    .dataframe thead th {\n",
       "        text-align: right;\n",
       "    }\n",
       "</style>\n",
       "<table border=\"1\" class=\"dataframe\">\n",
       "  <thead>\n",
       "    <tr style=\"text-align: right;\">\n",
       "      <th></th>\n",
       "      <th>age</th>\n",
       "      <th>bmi</th>\n",
       "      <th>children</th>\n",
       "      <th>charges</th>\n",
       "    </tr>\n",
       "  </thead>\n",
       "  <tbody>\n",
       "    <tr>\n",
       "      <th>count</th>\n",
       "      <td>1338.000000</td>\n",
       "      <td>1338.000000</td>\n",
       "      <td>1338.000000</td>\n",
       "      <td>1338.000000</td>\n",
       "    </tr>\n",
       "    <tr>\n",
       "      <th>mean</th>\n",
       "      <td>39.207025</td>\n",
       "      <td>30.663397</td>\n",
       "      <td>1.094918</td>\n",
       "      <td>13270.422265</td>\n",
       "    </tr>\n",
       "    <tr>\n",
       "      <th>std</th>\n",
       "      <td>14.049960</td>\n",
       "      <td>6.098187</td>\n",
       "      <td>1.205493</td>\n",
       "      <td>12110.011237</td>\n",
       "    </tr>\n",
       "    <tr>\n",
       "      <th>min</th>\n",
       "      <td>18.000000</td>\n",
       "      <td>15.960000</td>\n",
       "      <td>0.000000</td>\n",
       "      <td>1121.873900</td>\n",
       "    </tr>\n",
       "    <tr>\n",
       "      <th>25%</th>\n",
       "      <td>27.000000</td>\n",
       "      <td>26.296250</td>\n",
       "      <td>0.000000</td>\n",
       "      <td>4740.287150</td>\n",
       "    </tr>\n",
       "    <tr>\n",
       "      <th>50%</th>\n",
       "      <td>39.000000</td>\n",
       "      <td>30.400000</td>\n",
       "      <td>1.000000</td>\n",
       "      <td>9382.033000</td>\n",
       "    </tr>\n",
       "    <tr>\n",
       "      <th>75%</th>\n",
       "      <td>51.000000</td>\n",
       "      <td>34.693750</td>\n",
       "      <td>2.000000</td>\n",
       "      <td>16639.912515</td>\n",
       "    </tr>\n",
       "    <tr>\n",
       "      <th>max</th>\n",
       "      <td>64.000000</td>\n",
       "      <td>53.130000</td>\n",
       "      <td>5.000000</td>\n",
       "      <td>63770.428010</td>\n",
       "    </tr>\n",
       "  </tbody>\n",
       "</table>\n",
       "</div>"
      ],
      "text/plain": [
       "               age          bmi     children       charges\n",
       "count  1338.000000  1338.000000  1338.000000   1338.000000\n",
       "mean     39.207025    30.663397     1.094918  13270.422265\n",
       "std      14.049960     6.098187     1.205493  12110.011237\n",
       "min      18.000000    15.960000     0.000000   1121.873900\n",
       "25%      27.000000    26.296250     0.000000   4740.287150\n",
       "50%      39.000000    30.400000     1.000000   9382.033000\n",
       "75%      51.000000    34.693750     2.000000  16639.912515\n",
       "max      64.000000    53.130000     5.000000  63770.428010"
      ]
     },
     "execution_count": 9,
     "metadata": {},
     "output_type": "execute_result"
    }
   ],
   "source": [
    "### Summary statistics of the numerical columns in the dataset\n",
    "\n",
    "dataset.describe()"
   ]
  },
  {
   "cell_type": "markdown",
   "id": "d318f4eb",
   "metadata": {
    "papermill": {
     "duration": 0.033814,
     "end_time": "2022-12-23T21:33:32.618229",
     "exception": false,
     "start_time": "2022-12-23T21:33:32.584415",
     "status": "completed"
    },
    "tags": []
   },
   "source": [
    "#### 3.2 Feature Analysis"
   ]
  },
  {
   "cell_type": "markdown",
   "id": "944af3e3",
   "metadata": {
    "papermill": {
     "duration": 0.034879,
     "end_time": "2022-12-23T21:33:32.687773",
     "exception": false,
     "start_time": "2022-12-23T21:33:32.652894",
     "status": "completed"
    },
    "tags": []
   },
   "source": [
    "##### 3.2.1 Categorical variable - sex"
   ]
  },
  {
   "cell_type": "code",
   "execution_count": 10,
   "id": "58828ce0",
   "metadata": {
    "execution": {
     "iopub.execute_input": "2022-12-23T21:33:32.761097Z",
     "iopub.status.busy": "2022-12-23T21:33:32.760606Z",
     "iopub.status.idle": "2022-12-23T21:33:32.771652Z",
     "shell.execute_reply": "2022-12-23T21:33:32.770032Z"
    },
    "papermill": {
     "duration": 0.051541,
     "end_time": "2022-12-23T21:33:32.774938",
     "exception": false,
     "start_time": "2022-12-23T21:33:32.723397",
     "status": "completed"
    },
    "tags": []
   },
   "outputs": [
    {
     "data": {
      "text/plain": [
       "male      676\n",
       "female    662\n",
       "Name: sex, dtype: int64"
      ]
     },
     "execution_count": 10,
     "metadata": {},
     "output_type": "execute_result"
    }
   ],
   "source": [
    "### Value counts of the column - sex\n",
    "\n",
    "sex_count = dataset['sex'].value_counts(dropna = False)\n",
    "sex_count"
   ]
  },
  {
   "cell_type": "code",
   "execution_count": 11,
   "id": "082d2dd2",
   "metadata": {
    "execution": {
     "iopub.execute_input": "2022-12-23T21:33:32.846860Z",
     "iopub.status.busy": "2022-12-23T21:33:32.846421Z",
     "iopub.status.idle": "2022-12-23T21:33:33.023052Z",
     "shell.execute_reply": "2022-12-23T21:33:33.021589Z"
    },
    "papermill": {
     "duration": 0.21606,
     "end_time": "2022-12-23T21:33:33.026109",
     "exception": false,
     "start_time": "2022-12-23T21:33:32.810049",
     "status": "completed"
    },
    "tags": []
   },
   "outputs": [
    {
     "data": {
      "image/png": "[encoded data removed]",
      "text/plain": [
       "<Figure size 432x288 with 1 Axes>"
      ]
     },
     "metadata": {
      "needs_background": "light"
     },
     "output_type": "display_data"
    }
   ],
   "source": [
    "### Bar graph showing the value counts of the column - sex\n",
    "\n",
    "sns.barplot(x=sex_count.index, y=sex_count.values, alpha = 0.8)\n",
    "plt.title('Bar graph showing the value counts of the column - sex')\n",
    "plt.ylabel('Number of Occurrences', fontsize = 12)\n",
    "plt.xlabel('Sex', fontsize = 12)\n",
    "plt.show()"
   ]
  },
  {
   "cell_type": "markdown",
   "id": "44d7028d",
   "metadata": {
    "papermill": {
     "duration": 0.035338,
     "end_time": "2022-12-23T21:33:33.097171",
     "exception": false,
     "start_time": "2022-12-23T21:33:33.061833",
     "status": "completed"
    },
    "tags": []
   },
   "source": [
    "From the above graph, we can see that there are almost equal records of both men and women."
   ]
  },
  {
   "cell_type": "code",
   "execution_count": 12,
   "id": "7e919678",
   "metadata": {
    "execution": {
     "iopub.execute_input": "2022-12-23T21:33:33.169886Z",
     "iopub.status.busy": "2022-12-23T21:33:33.169430Z",
     "iopub.status.idle": "2022-12-23T21:33:33.189487Z",
     "shell.execute_reply": "2022-12-23T21:33:33.187899Z"
    },
    "papermill": {
     "duration": 0.06015,
     "end_time": "2022-12-23T21:33:33.192474",
     "exception": false,
     "start_time": "2022-12-23T21:33:33.132324",
     "status": "completed"
    },
    "tags": []
   },
   "outputs": [
    {
     "data": {
      "text/html": [
       "<div>\n",
       "<style scoped>\n",
       "    .dataframe tbody tr th:only-of-type {\n",
       "        vertical-align: middle;\n",
       "    }\n",
       "\n",
       "    .dataframe tbody tr th {\n",
       "        vertical-align: top;\n",
       "    }\n",
       "\n",
       "    .dataframe thead th {\n",
       "        text-align: right;\n",
       "    }\n",
       "</style>\n",
       "<table border=\"1\" class=\"dataframe\">\n",
       "  <thead>\n",
       "    <tr style=\"text-align: right;\">\n",
       "      <th></th>\n",
       "      <th>sex</th>\n",
       "      <th>charges</th>\n",
       "    </tr>\n",
       "  </thead>\n",
       "  <tbody>\n",
       "    <tr>\n",
       "      <th>0</th>\n",
       "      <td>female</td>\n",
       "      <td>12569.578844</td>\n",
       "    </tr>\n",
       "    <tr>\n",
       "      <th>1</th>\n",
       "      <td>male</td>\n",
       "      <td>13956.751178</td>\n",
       "    </tr>\n",
       "  </tbody>\n",
       "</table>\n",
       "</div>"
      ],
      "text/plain": [
       "      sex       charges\n",
       "0  female  12569.578844\n",
       "1    male  13956.751178"
      ]
     },
     "execution_count": 12,
     "metadata": {},
     "output_type": "execute_result"
    }
   ],
   "source": [
    "### Mean price for each sex \n",
    "\n",
    "mean_price_sex = dataset[['sex', 'charges']].groupby('sex', as_index = False).mean()\n",
    "mean_price_sex"
   ]
  },
  {
   "cell_type": "code",
   "execution_count": 13,
   "id": "0752bc1c",
   "metadata": {
    "execution": {
     "iopub.execute_input": "2022-12-23T21:33:33.266906Z",
     "iopub.status.busy": "2022-12-23T21:33:33.265571Z",
     "iopub.status.idle": "2022-12-23T21:33:33.410048Z",
     "shell.execute_reply": "2022-12-23T21:33:33.408503Z"
    },
    "papermill": {
     "duration": 0.184956,
     "end_time": "2022-12-23T21:33:33.412834",
     "exception": false,
     "start_time": "2022-12-23T21:33:33.227878",
     "status": "completed"
    },
    "tags": []
   },
   "outputs": [
    {
     "data": {
      "image/png": "[encoded data removed]",
      "text/plain": [
       "<Figure size 432x288 with 1 Axes>"
      ]
     },
     "metadata": {
      "needs_background": "light"
     },
     "output_type": "display_data"
    }
   ],
   "source": [
    "### Mean charges for each sex\n",
    "\n",
    "sns.barplot(x=mean_price_sex['sex'], y=mean_price_sex['charges'], alpha = 0.8)\n",
    "plt.title('Mean Charges for each Sex')\n",
    "plt.ylabel('Charges', fontsize = 12)\n",
    "plt.xlabel('Sex', fontsize = 12)\n",
    "plt.show()"
   ]
  },
  {
   "cell_type": "markdown",
   "id": "c74fa178",
   "metadata": {
    "papermill": {
     "duration": 0.035385,
     "end_time": "2022-12-23T21:33:33.484997",
     "exception": false,
     "start_time": "2022-12-23T21:33:33.449612",
     "status": "completed"
    },
    "tags": []
   },
   "source": [
    "On observing the above graph, we can see that the mean charges is higher in males than compared to females."
   ]
  },
  {
   "cell_type": "markdown",
   "id": "4752ddec",
   "metadata": {
    "papermill": {
     "duration": 0.036755,
     "end_time": "2022-12-23T21:33:33.557365",
     "exception": false,
     "start_time": "2022-12-23T21:33:33.520610",
     "status": "completed"
    },
    "tags": []
   },
   "source": [
    "##### 3.2.2 Categorical variable - smoker"
   ]
  },
  {
   "cell_type": "code",
   "execution_count": 14,
   "id": "4b285932",
   "metadata": {
    "execution": {
     "iopub.execute_input": "2022-12-23T21:33:33.631404Z",
     "iopub.status.busy": "2022-12-23T21:33:33.630951Z",
     "iopub.status.idle": "2022-12-23T21:33:33.641661Z",
     "shell.execute_reply": "2022-12-23T21:33:33.640302Z"
    },
    "papermill": {
     "duration": 0.051221,
     "end_time": "2022-12-23T21:33:33.644862",
     "exception": false,
     "start_time": "2022-12-23T21:33:33.593641",
     "status": "completed"
    },
    "tags": []
   },
   "outputs": [
    {
     "data": {
      "text/plain": [
       "no     1064\n",
       "yes     274\n",
       "Name: smoker, dtype: int64"
      ]
     },
     "execution_count": 14,
     "metadata": {},
     "output_type": "execute_result"
    }
   ],
   "source": [
    "### Value counts of the column - smoker\n",
    "\n",
    "smoker_count = dataset['smoker'].value_counts(dropna = False)\n",
    "smoker_count"
   ]
  },
  {
   "cell_type": "code",
   "execution_count": 15,
   "id": "7c67340f",
   "metadata": {
    "execution": {
     "iopub.execute_input": "2022-12-23T21:33:33.717861Z",
     "iopub.status.busy": "2022-12-23T21:33:33.717415Z",
     "iopub.status.idle": "2022-12-23T21:33:33.863413Z",
     "shell.execute_reply": "2022-12-23T21:33:33.861350Z"
    },
    "papermill": {
     "duration": 0.188443,
     "end_time": "2022-12-23T21:33:33.868652",
     "exception": false,
     "start_time": "2022-12-23T21:33:33.680209",
     "status": "completed"
    },
    "tags": []
   },
   "outputs": [
    {
     "data": {
      "image/png": "[encoded data removed]",
      "text/plain": [
       "<Figure size 432x288 with 1 Axes>"
      ]
     },
     "metadata": {
      "needs_background": "light"
     },
     "output_type": "display_data"
    }
   ],
   "source": [
    "### Bar graph showing the value counts of the column - smoker\n",
    "\n",
    "sns.barplot(x=smoker_count.index, y=smoker_count.values, alpha = 0.8)\n",
    "plt.title('Bar graph showing the value counts of the column - smoker')\n",
    "plt.ylabel('Number of Occurrences', fontsize = 12)\n",
    "plt.xlabel('Smoker', fontsize = 12)\n",
    "plt.show()"
   ]
  },
  {
   "cell_type": "markdown",
   "id": "d9de9376",
   "metadata": {
    "papermill": {
     "duration": 0.037158,
     "end_time": "2022-12-23T21:33:33.945820",
     "exception": false,
     "start_time": "2022-12-23T21:33:33.908662",
     "status": "completed"
    },
    "tags": []
   },
   "source": [
    "From the above graph, we can see that most of the records in the dataset belong to non-smokers."
   ]
  },
  {
   "cell_type": "code",
   "execution_count": 16,
   "id": "299cbeeb",
   "metadata": {
    "execution": {
     "iopub.execute_input": "2022-12-23T21:33:34.021545Z",
     "iopub.status.busy": "2022-12-23T21:33:34.020754Z",
     "iopub.status.idle": "2022-12-23T21:33:34.036715Z",
     "shell.execute_reply": "2022-12-23T21:33:34.035276Z"
    },
    "papermill": {
     "duration": 0.056721,
     "end_time": "2022-12-23T21:33:34.039597",
     "exception": false,
     "start_time": "2022-12-23T21:33:33.982876",
     "status": "completed"
    },
    "tags": []
   },
   "outputs": [
    {
     "data": {
      "text/html": [
       "<div>\n",
       "<style scoped>\n",
       "    .dataframe tbody tr th:only-of-type {\n",
       "        vertical-align: middle;\n",
       "    }\n",
       "\n",
       "    .dataframe tbody tr th {\n",
       "        vertical-align: top;\n",
       "    }\n",
       "\n",
       "    .dataframe thead th {\n",
       "        text-align: right;\n",
       "    }\n",
       "</style>\n",
       "<table border=\"1\" class=\"dataframe\">\n",
       "  <thead>\n",
       "    <tr style=\"text-align: right;\">\n",
       "      <th></th>\n",
       "      <th>smoker</th>\n",
       "      <th>charges</th>\n",
       "    </tr>\n",
       "  </thead>\n",
       "  <tbody>\n",
       "    <tr>\n",
       "      <th>0</th>\n",
       "      <td>no</td>\n",
       "      <td>8434.268298</td>\n",
       "    </tr>\n",
       "    <tr>\n",
       "      <th>1</th>\n",
       "      <td>yes</td>\n",
       "      <td>32050.231832</td>\n",
       "    </tr>\n",
       "  </tbody>\n",
       "</table>\n",
       "</div>"
      ],
      "text/plain": [
       "  smoker       charges\n",
       "0     no   8434.268298\n",
       "1    yes  32050.231832"
      ]
     },
     "execution_count": 16,
     "metadata": {},
     "output_type": "execute_result"
    }
   ],
   "source": [
    "### Mean price for smoker \n",
    "\n",
    "mean_price_smoker = dataset[['smoker', 'charges']].groupby('smoker', as_index = False).mean()\n",
    "mean_price_smoker"
   ]
  },
  {
   "cell_type": "code",
   "execution_count": 17,
   "id": "d7a26c22",
   "metadata": {
    "execution": {
     "iopub.execute_input": "2022-12-23T21:33:34.116449Z",
     "iopub.status.busy": "2022-12-23T21:33:34.115975Z",
     "iopub.status.idle": "2022-12-23T21:33:34.329959Z",
     "shell.execute_reply": "2022-12-23T21:33:34.328256Z"
    },
    "papermill": {
     "duration": 0.256637,
     "end_time": "2022-12-23T21:33:34.333222",
     "exception": false,
     "start_time": "2022-12-23T21:33:34.076585",
     "status": "completed"
    },
    "tags": []
   },
   "outputs": [
    {
     "data": {
      "image/png": "[encoded data removed]",
      "text/plain": [
       "<Figure size 432x288 with 1 Axes>"
      ]
     },
     "metadata": {
      "needs_background": "light"
     },
     "output_type": "display_data"
    }
   ],
   "source": [
    "### Mean charges for each sex\n",
    "\n",
    "sns.barplot(x=mean_price_smoker['smoker'], y=mean_price_smoker['charges'], alpha = 0.8)\n",
    "plt.title('Mean Charges for each Smoker')\n",
    "plt.ylabel('Charges', fontsize = 12)\n",
    "plt.xlabel('Smoker', fontsize = 12)\n",
    "plt.show()"
   ]
  },
  {
   "cell_type": "markdown",
   "id": "66505301",
   "metadata": {
    "papermill": {
     "duration": 0.036513,
     "end_time": "2022-12-23T21:33:34.405976",
     "exception": false,
     "start_time": "2022-12-23T21:33:34.369463",
     "status": "completed"
    },
    "tags": []
   },
   "source": [
    "From the above graph, we can see that the mean charges are higher for an individual who smokes than their non-smoking counterparts.\n",
    "\n",
    "This could also be the reason why men pay higher charges than female. This statement can only become true if most of the smokers are male."
   ]
  },
  {
   "cell_type": "code",
   "execution_count": 18,
   "id": "816686dc",
   "metadata": {
    "execution": {
     "iopub.execute_input": "2022-12-23T21:33:34.483287Z",
     "iopub.status.busy": "2022-12-23T21:33:34.482743Z",
     "iopub.status.idle": "2022-12-23T21:33:35.090850Z",
     "shell.execute_reply": "2022-12-23T21:33:35.089242Z"
    },
    "papermill": {
     "duration": 0.650783,
     "end_time": "2022-12-23T21:33:35.093709",
     "exception": false,
     "start_time": "2022-12-23T21:33:34.442926",
     "status": "completed"
    },
    "tags": []
   },
   "outputs": [
    {
     "data": {
      "text/plain": [
       "Text(0.5, 1.0, 'Mean Charges by Sex and Smoker')"
      ]
     },
     "execution_count": 18,
     "metadata": {},
     "output_type": "execute_result"
    },
    {
     "data": {
      "image/png": "[encoded data removed]",
      "text/plain": [
       "<Figure size 430.5x360 with 1 Axes>"
      ]
     },
     "metadata": {
      "needs_background": "light"
     },
     "output_type": "display_data"
    }
   ],
   "source": [
    "### Mean Charges by Sex and Smoker\n",
    "\n",
    "sns.catplot(x = 'smoker', y = 'charges', hue = 'sex', data = dataset, kind = 'bar')\n",
    "plt.ylabel('Mean Charges')\n",
    "plt.title('Mean Charges by Sex and Smoker')"
   ]
  },
  {
   "cell_type": "markdown",
   "id": "a0c58956",
   "metadata": {
    "papermill": {
     "duration": 0.037367,
     "end_time": "2022-12-23T21:33:35.168959",
     "exception": false,
     "start_time": "2022-12-23T21:33:35.131592",
     "status": "completed"
    },
    "tags": []
   },
   "source": [
    "From the above graph, we can see that most of the people who smoke are male, hence they have high charges. Therefore, our statement is true."
   ]
  },
  {
   "cell_type": "markdown",
   "id": "5f406427",
   "metadata": {
    "papermill": {
     "duration": 0.037167,
     "end_time": "2022-12-23T21:33:35.243810",
     "exception": false,
     "start_time": "2022-12-23T21:33:35.206643",
     "status": "completed"
    },
    "tags": []
   },
   "source": [
    "##### 3.2.3 Categorical variable - region"
   ]
  },
  {
   "cell_type": "code",
   "execution_count": 19,
   "id": "0075d4ab",
   "metadata": {
    "execution": {
     "iopub.execute_input": "2022-12-23T21:33:35.320409Z",
     "iopub.status.busy": "2022-12-23T21:33:35.319913Z",
     "iopub.status.idle": "2022-12-23T21:33:35.329681Z",
     "shell.execute_reply": "2022-12-23T21:33:35.328632Z"
    },
    "papermill": {
     "duration": 0.050801,
     "end_time": "2022-12-23T21:33:35.332112",
     "exception": false,
     "start_time": "2022-12-23T21:33:35.281311",
     "status": "completed"
    },
    "tags": []
   },
   "outputs": [
    {
     "data": {
      "text/plain": [
       "southeast    364\n",
       "northwest    325\n",
       "southwest    325\n",
       "northeast    324\n",
       "Name: region, dtype: int64"
      ]
     },
     "execution_count": 19,
     "metadata": {},
     "output_type": "execute_result"
    }
   ],
   "source": [
    "### Value counts of the column - region\n",
    "\n",
    "region_count = dataset['region'].value_counts(dropna = False)\n",
    "region_count"
   ]
  },
  {
   "cell_type": "code",
   "execution_count": 20,
   "id": "703506ef",
   "metadata": {
    "execution": {
     "iopub.execute_input": "2022-12-23T21:33:35.410767Z",
     "iopub.status.busy": "2022-12-23T21:33:35.409490Z",
     "iopub.status.idle": "2022-12-23T21:33:35.651747Z",
     "shell.execute_reply": "2022-12-23T21:33:35.650124Z"
    },
    "papermill": {
     "duration": 0.284688,
     "end_time": "2022-12-23T21:33:35.654586",
     "exception": false,
     "start_time": "2022-12-23T21:33:35.369898",
     "status": "completed"
    },
    "tags": []
   },
   "outputs": [
    {
     "data": {
      "image/png": "[encoded data removed]",
      "text/plain": [
       "<Figure size 432x288 with 1 Axes>"
      ]
     },
     "metadata": {
      "needs_background": "light"
     },
     "output_type": "display_data"
    }
   ],
   "source": [
    "### Bar graph showing the value counts of the column - region\n",
    "\n",
    "sns.barplot(x=region_count.index, y=region_count.values, alpha = 0.8)\n",
    "plt.title('Bar graph showing the value counts of the column - region')\n",
    "plt.ylabel('Number of Occurrences', fontsize = 12)\n",
    "plt.xlabel('Region', fontsize = 12)\n",
    "plt.show()"
   ]
  },
  {
   "cell_type": "markdown",
   "id": "9ff265e3",
   "metadata": {
    "papermill": {
     "duration": 0.036644,
     "end_time": "2022-12-23T21:33:35.728466",
     "exception": false,
     "start_time": "2022-12-23T21:33:35.691822",
     "status": "completed"
    },
    "tags": []
   },
   "source": [
    "From the above graph, we can see that most of the records in the dataset belong to the South East region."
   ]
  },
  {
   "cell_type": "code",
   "execution_count": 21,
   "id": "cf7a7b33",
   "metadata": {
    "execution": {
     "iopub.execute_input": "2022-12-23T21:33:35.806492Z",
     "iopub.status.busy": "2022-12-23T21:33:35.805039Z",
     "iopub.status.idle": "2022-12-23T21:33:35.823629Z",
     "shell.execute_reply": "2022-12-23T21:33:35.822119Z"
    },
    "papermill": {
     "duration": 0.060329,
     "end_time": "2022-12-23T21:33:35.826410",
     "exception": false,
     "start_time": "2022-12-23T21:33:35.766081",
     "status": "completed"
    },
    "tags": []
   },
   "outputs": [
    {
     "data": {
      "text/html": [
       "<div>\n",
       "<style scoped>\n",
       "    .dataframe tbody tr th:only-of-type {\n",
       "        vertical-align: middle;\n",
       "    }\n",
       "\n",
       "    .dataframe tbody tr th {\n",
       "        vertical-align: top;\n",
       "    }\n",
       "\n",
       "    .dataframe thead th {\n",
       "        text-align: right;\n",
       "    }\n",
       "</style>\n",
       "<table border=\"1\" class=\"dataframe\">\n",
       "  <thead>\n",
       "    <tr style=\"text-align: right;\">\n",
       "      <th></th>\n",
       "      <th>region</th>\n",
       "      <th>charges</th>\n",
       "    </tr>\n",
       "  </thead>\n",
       "  <tbody>\n",
       "    <tr>\n",
       "      <th>0</th>\n",
       "      <td>northeast</td>\n",
       "      <td>13406.384516</td>\n",
       "    </tr>\n",
       "    <tr>\n",
       "      <th>1</th>\n",
       "      <td>northwest</td>\n",
       "      <td>12417.575374</td>\n",
       "    </tr>\n",
       "    <tr>\n",
       "      <th>2</th>\n",
       "      <td>southeast</td>\n",
       "      <td>14735.411438</td>\n",
       "    </tr>\n",
       "    <tr>\n",
       "      <th>3</th>\n",
       "      <td>southwest</td>\n",
       "      <td>12346.937377</td>\n",
       "    </tr>\n",
       "  </tbody>\n",
       "</table>\n",
       "</div>"
      ],
      "text/plain": [
       "      region       charges\n",
       "0  northeast  13406.384516\n",
       "1  northwest  12417.575374\n",
       "2  southeast  14735.411438\n",
       "3  southwest  12346.937377"
      ]
     },
     "execution_count": 21,
     "metadata": {},
     "output_type": "execute_result"
    }
   ],
   "source": [
    "### Mean price for region \n",
    "\n",
    "mean_price_region = dataset[['region', 'charges']].groupby('region', as_index = False).mean()\n",
    "mean_price_region"
   ]
  },
  {
   "cell_type": "code",
   "execution_count": 22,
   "id": "41dded98",
   "metadata": {
    "execution": {
     "iopub.execute_input": "2022-12-23T21:33:35.903284Z",
     "iopub.status.busy": "2022-12-23T21:33:35.902781Z",
     "iopub.status.idle": "2022-12-23T21:33:36.322062Z",
     "shell.execute_reply": "2022-12-23T21:33:36.320675Z"
    },
    "papermill": {
     "duration": 0.46091,
     "end_time": "2022-12-23T21:33:36.324901",
     "exception": false,
     "start_time": "2022-12-23T21:33:35.863991",
     "status": "completed"
    },
    "tags": []
   },
   "outputs": [
    {
     "data": {
      "image/png": "[encoded data removed]",
      "text/plain": [
       "<Figure size 432x288 with 1 Axes>"
      ]
     },
     "metadata": {
      "needs_background": "light"
     },
     "output_type": "display_data"
    }
   ],
   "source": [
    "### Mean charges for each region\n",
    "\n",
    "sns.barplot(x=mean_price_region['region'],y= mean_price_region['charges'], alpha = 0.8)\n",
    "plt.title('Mean Charges for each Region')\n",
    "plt.ylabel('Charges', fontsize = 12)\n",
    "plt.xlabel('Region', fontsize = 12)\n",
    "plt.show()"
   ]
  },
  {
   "cell_type": "markdown",
   "id": "12c685ef",
   "metadata": {
    "papermill": {
     "duration": 0.038104,
     "end_time": "2022-12-23T21:33:36.401076",
     "exception": false,
     "start_time": "2022-12-23T21:33:36.362972",
     "status": "completed"
    },
    "tags": []
   },
   "source": [
    "Now, let's look at the distribution of sex for each region and the mean charges for each region."
   ]
  },
  {
   "cell_type": "code",
   "execution_count": 23,
   "id": "bb6b7cf2",
   "metadata": {
    "execution": {
     "iopub.execute_input": "2022-12-23T21:33:36.479843Z",
     "iopub.status.busy": "2022-12-23T21:33:36.479384Z",
     "iopub.status.idle": "2022-12-23T21:33:37.352736Z",
     "shell.execute_reply": "2022-12-23T21:33:37.351418Z"
    },
    "papermill": {
     "duration": 0.916329,
     "end_time": "2022-12-23T21:33:37.355971",
     "exception": false,
     "start_time": "2022-12-23T21:33:36.439642",
     "status": "completed"
    },
    "tags": []
   },
   "outputs": [
    {
     "data": {
      "text/plain": [
       "<seaborn.axisgrid.FacetGrid at 0x2418000e400>"
      ]
     },
     "execution_count": 23,
     "metadata": {},
     "output_type": "execute_result"
    },
    {
     "data": {
      "image/png": "[encoded data removed]",
      "text/plain": [
       "<Figure size 1080x720 with 4 Axes>"
      ]
     },
     "metadata": {
      "needs_background": "light"
     },
     "output_type": "display_data"
    }
   ],
   "source": [
    "### Distribution of sex for each region\n",
    "\n",
    "sns.catplot('sex', col = 'region', data = dataset, kind = 'count', col_wrap = 3)"
   ]
  },
  {
   "cell_type": "markdown",
   "id": "996dfa8c",
   "metadata": {
    "papermill": {
     "duration": 0.038089,
     "end_time": "2022-12-23T21:33:37.432348",
     "exception": false,
     "start_time": "2022-12-23T21:33:37.394259",
     "status": "completed"
    },
    "tags": []
   },
   "source": [
    "From the above graph, we can see that for every region the ratio between male and female is same except for Southeast region. Hence, the mean charge is high in the South east region than compared to other regions. We will also plot the above graph using Smoker instead of Sex."
   ]
  },
  {
   "cell_type": "code",
   "execution_count": 24,
   "id": "c567bc77",
   "metadata": {
    "execution": {
     "iopub.execute_input": "2022-12-23T21:33:37.512081Z",
     "iopub.status.busy": "2022-12-23T21:33:37.511652Z",
     "iopub.status.idle": "2022-12-23T21:33:38.349979Z",
     "shell.execute_reply": "2022-12-23T21:33:38.348586Z"
    },
    "papermill": {
     "duration": 0.882003,
     "end_time": "2022-12-23T21:33:38.353053",
     "exception": false,
     "start_time": "2022-12-23T21:33:37.471050",
     "status": "completed"
    },
    "tags": []
   },
   "outputs": [
    {
     "data": {
      "text/plain": [
       "<seaborn.axisgrid.FacetGrid at 0x24180162d30>"
      ]
     },
     "execution_count": 24,
     "metadata": {},
     "output_type": "execute_result"
    },
    {
     "data": {
      "image/png": "[encoded data removed]",
      "text/plain": [
       "<Figure size 1080x720 with 4 Axes>"
      ]
     },
     "metadata": {
      "needs_background": "light"
     },
     "output_type": "display_data"
    }
   ],
   "source": [
    "### Distribution of smoker for each region\n",
    "\n",
    "sns.catplot(x='smoker', col = 'region', data = dataset, kind = 'count', col_wrap = 3)"
   ]
  },
  {
   "cell_type": "markdown",
   "id": "d74c6367",
   "metadata": {
    "papermill": {
     "duration": 0.039563,
     "end_time": "2022-12-23T21:33:38.432277",
     "exception": false,
     "start_time": "2022-12-23T21:33:38.392714",
     "status": "completed"
    },
    "tags": []
   },
   "source": [
    "From the above graph, we can see that there are more people who smoke in Southeast region than compared to other regions. Hence, the higher mean charge in the Southeast region."
   ]
  },
  {
   "cell_type": "markdown",
   "id": "ba2fce7b",
   "metadata": {
    "papermill": {
     "duration": 0.03991,
     "end_time": "2022-12-23T21:33:38.511100",
     "exception": false,
     "start_time": "2022-12-23T21:33:38.471190",
     "status": "completed"
    },
    "tags": []
   },
   "source": [
    "##### 3.2.4 Numerical variable - age"
   ]
  },
  {
   "cell_type": "code",
   "execution_count": 25,
   "id": "7f6e2d0c",
   "metadata": {
    "execution": {
     "iopub.execute_input": "2022-12-23T21:33:38.592867Z",
     "iopub.status.busy": "2022-12-23T21:33:38.592110Z",
     "iopub.status.idle": "2022-12-23T21:33:38.979611Z",
     "shell.execute_reply": "2022-12-23T21:33:38.978082Z"
    },
    "papermill": {
     "duration": 0.432225,
     "end_time": "2022-12-23T21:33:38.982617",
     "exception": false,
     "start_time": "2022-12-23T21:33:38.550392",
     "status": "completed"
    },
    "tags": []
   },
   "outputs": [
    {
     "data": {
      "text/plain": [
       "Text(0.5, 1.0, 'Distribution of the column - age')"
      ]
     },
     "execution_count": 25,
     "metadata": {},
     "output_type": "execute_result"
    },
    {
     "data": {
      "image/png": "[encoded data removed]",
      "text/plain": [
       "<Figure size 432x288 with 1 Axes>"
      ]
     },
     "metadata": {
      "needs_background": "light"
     },
     "output_type": "display_data"
    }
   ],
   "source": [
    "### Understanding the distribution of the column - age\n",
    "\n",
    "sns.distplot(dataset['age'], label = 'Skewness: %.2f'%(dataset['age'].skew()))\n",
    "plt.legend(loc = 'best')\n",
    "plt.title('Distribution of the column - age')"
   ]
  },
  {
   "cell_type": "markdown",
   "id": "b608c182",
   "metadata": {
    "papermill": {
     "duration": 0.038793,
     "end_time": "2022-12-23T21:33:39.061478",
     "exception": false,
     "start_time": "2022-12-23T21:33:39.022685",
     "status": "completed"
    },
    "tags": []
   },
   "source": [
    "From the above graph, we can see that the distribution has very less skewness."
   ]
  },
  {
   "cell_type": "code",
   "execution_count": 26,
   "id": "b34b32ee",
   "metadata": {
    "execution": {
     "iopub.execute_input": "2022-12-23T21:33:39.142022Z",
     "iopub.status.busy": "2022-12-23T21:33:39.141542Z",
     "iopub.status.idle": "2022-12-23T21:33:39.740496Z",
     "shell.execute_reply": "2022-12-23T21:33:39.739234Z"
    },
    "papermill": {
     "duration": 0.64271,
     "end_time": "2022-12-23T21:33:39.743418",
     "exception": false,
     "start_time": "2022-12-23T21:33:39.100708",
     "status": "completed"
    },
    "tags": []
   },
   "outputs": [
    {
     "data": {
      "text/plain": [
       "<seaborn.axisgrid.FacetGrid at 0x24180c19490>"
      ]
     },
     "execution_count": 26,
     "metadata": {},
     "output_type": "execute_result"
    },
    {
     "data": {
      "image/png": "[encoded data removed]",
      "text/plain": [
       "<Figure size 432x216 with 2 Axes>"
      ]
     },
     "metadata": {
      "needs_background": "light"
     },
     "output_type": "display_data"
    }
   ],
   "source": [
    "### Age distribution by sex\n",
    "\n",
    "grid = sns.FacetGrid(dataset, col = 'sex')\n",
    "grid.map(sns.distplot, 'age')"
   ]
  },
  {
   "cell_type": "markdown",
   "id": "ec02353d",
   "metadata": {
    "papermill": {
     "duration": 0.039911,
     "end_time": "2022-12-23T21:33:39.823834",
     "exception": false,
     "start_time": "2022-12-23T21:33:39.783923",
     "status": "completed"
    },
    "tags": []
   },
   "source": [
    "From the above graphs, we can see that the age distribution is similar in both the sex."
   ]
  },
  {
   "cell_type": "code",
   "execution_count": 27,
   "id": "35e7fadd",
   "metadata": {
    "execution": {
     "iopub.execute_input": "2022-12-23T21:33:39.905603Z",
     "iopub.status.busy": "2022-12-23T21:33:39.905096Z",
     "iopub.status.idle": "2022-12-23T21:33:40.212625Z",
     "shell.execute_reply": "2022-12-23T21:33:40.211225Z"
    },
    "papermill": {
     "duration": 0.352161,
     "end_time": "2022-12-23T21:33:40.215840",
     "exception": false,
     "start_time": "2022-12-23T21:33:39.863679",
     "status": "completed"
    },
    "tags": []
   },
   "outputs": [
    {
     "data": {
      "text/plain": [
       "Text(0.5, 1.0, 'Age Distribution by Sex')"
      ]
     },
     "execution_count": 27,
     "metadata": {},
     "output_type": "execute_result"
    },
    {
     "data": {
      "image/png": "[encoded data removed]",
      "text/plain": [
       "<Figure size 432x288 with 1 Axes>"
      ]
     },
     "metadata": {
      "needs_background": "light"
     },
     "output_type": "display_data"
    }
   ],
   "source": [
    "### Merging both the above graphs into one\n",
    "\n",
    "sns.kdeplot(dataset['age'][dataset['sex'] == 'male'], label = 'Male')\n",
    "sns.kdeplot(dataset['age'][dataset['sex'] == 'female'], label = 'Female')\n",
    "plt.xlabel('Age')\n",
    "plt.legend()\n",
    "plt.title('Age Distribution by Sex')"
   ]
  },
  {
   "cell_type": "markdown",
   "id": "40e60b28",
   "metadata": {
    "papermill": {
     "duration": 0.040422,
     "end_time": "2022-12-23T21:33:40.296569",
     "exception": false,
     "start_time": "2022-12-23T21:33:40.256147",
     "status": "completed"
    },
    "tags": []
   },
   "source": [
    "From the above graph, we can see that for age close to 20 there are more male records in the dataset, whereas in case of age > 40 there are more female records."
   ]
  },
  {
   "cell_type": "code",
   "execution_count": 28,
   "id": "910f13b6",
   "metadata": {
    "execution": {
     "iopub.execute_input": "2022-12-23T21:33:40.380128Z",
     "iopub.status.busy": "2022-12-23T21:33:40.378954Z",
     "iopub.status.idle": "2022-12-23T21:33:40.540721Z",
     "shell.execute_reply": "2022-12-23T21:33:40.538927Z"
    },
    "papermill": {
     "duration": 0.208614,
     "end_time": "2022-12-23T21:33:40.545664",
     "exception": false,
     "start_time": "2022-12-23T21:33:40.337050",
     "status": "completed"
    },
    "tags": []
   },
   "outputs": [
    {
     "data": {
      "text/plain": [
       "<AxesSubplot:>"
      ]
     },
     "execution_count": 28,
     "metadata": {},
     "output_type": "execute_result"
    },
    {
     "data": {
      "image/png": "[encoded data removed]",
      "text/plain": [
       "<Figure size 432x288 with 1 Axes>"
      ]
     },
     "metadata": {
      "needs_background": "light"
     },
     "output_type": "display_data"
    }
   ],
   "source": [
    "### Plotting a boxplot to check if the column has any outliers \n",
    "\n",
    "dataset.boxplot(column = ['age'])"
   ]
  },
  {
   "cell_type": "markdown",
   "id": "448d715f",
   "metadata": {
    "papermill": {
     "duration": 0.040836,
     "end_time": "2022-12-23T21:33:40.640939",
     "exception": false,
     "start_time": "2022-12-23T21:33:40.600103",
     "status": "completed"
    },
    "tags": []
   },
   "source": [
    "From the above boxplot, we can see that there are no outliers in the column."
   ]
  },
  {
   "cell_type": "markdown",
   "id": "0ec5a3bb",
   "metadata": {
    "papermill": {
     "duration": 0.041093,
     "end_time": "2022-12-23T21:33:40.722883",
     "exception": false,
     "start_time": "2022-12-23T21:33:40.681790",
     "status": "completed"
    },
    "tags": []
   },
   "source": [
    "##### 3.2.5 Numerical variable - bmi"
   ]
  },
  {
   "cell_type": "code",
   "execution_count": 29,
   "id": "ddf2ce21",
   "metadata": {
    "execution": {
     "iopub.execute_input": "2022-12-23T21:33:40.806593Z",
     "iopub.status.busy": "2022-12-23T21:33:40.805792Z",
     "iopub.status.idle": "2022-12-23T21:33:41.193936Z",
     "shell.execute_reply": "2022-12-23T21:33:41.192268Z"
    },
    "papermill": {
     "duration": 0.433355,
     "end_time": "2022-12-23T21:33:41.196940",
     "exception": false,
     "start_time": "2022-12-23T21:33:40.763585",
     "status": "completed"
    },
    "tags": []
   },
   "outputs": [
    {
     "data": {
      "text/plain": [
       "Text(0.5, 1.0, 'Distribution of the column - bmi')"
      ]
     },
     "execution_count": 29,
     "metadata": {},
     "output_type": "execute_result"
    },
    {
     "data": {
      "image/png": "[encoded data removed]",
      "text/plain": [
       "<Figure size 432x288 with 1 Axes>"
      ]
     },
     "metadata": {
      "needs_background": "light"
     },
     "output_type": "display_data"
    }
   ],
   "source": [
    "### Understanding the distribution of the column - bmi\n",
    "\n",
    "sns.distplot(dataset['bmi'], label = 'Skewness: %.2f'%(dataset['bmi'].skew()))\n",
    "plt.legend(loc = 'best')\n",
    "plt.title('Distribution of the column - bmi')"
   ]
  },
  {
   "cell_type": "markdown",
   "id": "0b7fd627",
   "metadata": {
    "papermill": {
     "duration": 0.04135,
     "end_time": "2022-12-23T21:33:41.280310",
     "exception": false,
     "start_time": "2022-12-23T21:33:41.238960",
     "status": "completed"
    },
    "tags": []
   },
   "source": [
    "From the above graph, we can see that the bmi column is normally distributed with a slight tail at the right."
   ]
  },
  {
   "cell_type": "code",
   "execution_count": 30,
   "id": "500e852e",
   "metadata": {
    "execution": {
     "iopub.execute_input": "2022-12-23T21:33:41.367388Z",
     "iopub.status.busy": "2022-12-23T21:33:41.366857Z",
     "iopub.status.idle": "2022-12-23T21:33:42.040811Z",
     "shell.execute_reply": "2022-12-23T21:33:42.039478Z"
    },
    "papermill": {
     "duration": 0.720853,
     "end_time": "2022-12-23T21:33:42.043948",
     "exception": false,
     "start_time": "2022-12-23T21:33:41.323095",
     "status": "completed"
    },
    "tags": []
   },
   "outputs": [
    {
     "data": {
      "text/plain": [
       "<seaborn.axisgrid.FacetGrid at 0x24182b6c4c0>"
      ]
     },
     "execution_count": 30,
     "metadata": {},
     "output_type": "execute_result"
    },
    {
     "data": {
      "image/png": "[encoded data removed]",
      "text/plain": [
       "<Figure size 432x216 with 2 Axes>"
      ]
     },
     "metadata": {
      "needs_background": "light"
     },
     "output_type": "display_data"
    }
   ],
   "source": [
    "### BMI distribution by sex\n",
    "\n",
    "grid = sns.FacetGrid(dataset, col = 'sex')\n",
    "grid.map(sns.distplot, 'bmi')"
   ]
  },
  {
   "cell_type": "markdown",
   "id": "11dd8834",
   "metadata": {
    "papermill": {
     "duration": 0.043051,
     "end_time": "2022-12-23T21:33:42.129740",
     "exception": false,
     "start_time": "2022-12-23T21:33:42.086689",
     "status": "completed"
    },
    "tags": []
   },
   "source": [
    "From the above graph, we can see that both the graphs look similar, except in the case of male where the graph has a slight tail to the right."
   ]
  },
  {
   "cell_type": "code",
   "execution_count": 31,
   "id": "925a04ee",
   "metadata": {
    "execution": {
     "iopub.execute_input": "2022-12-23T21:33:42.215345Z",
     "iopub.status.busy": "2022-12-23T21:33:42.214837Z",
     "iopub.status.idle": "2022-12-23T21:33:42.546522Z",
     "shell.execute_reply": "2022-12-23T21:33:42.543286Z"
    },
    "papermill": {
     "duration": 0.37808,
     "end_time": "2022-12-23T21:33:42.549523",
     "exception": false,
     "start_time": "2022-12-23T21:33:42.171443",
     "status": "completed"
    },
    "tags": []
   },
   "outputs": [
    {
     "data": {
      "text/plain": [
       "Text(0.5, 1.0, 'BMI Distribution by Sex')"
      ]
     },
     "execution_count": 31,
     "metadata": {},
     "output_type": "execute_result"
    },
    {
     "data": {
      "image/png": "[encoded data removed]",
      "text/plain": [
       "<Figure size 432x288 with 1 Axes>"
      ]
     },
     "metadata": {
      "needs_background": "light"
     },
     "output_type": "display_data"
    }
   ],
   "source": [
    "### Merging both the above graphs into one\n",
    "\n",
    "sns.kdeplot(dataset['bmi'][dataset['sex'] == 'male'], label = 'Male')\n",
    "sns.kdeplot(dataset['bmi'][dataset['sex'] == 'female'], label = 'Female')\n",
    "plt.xlabel('BMI')\n",
    "plt.legend()\n",
    "plt.title('BMI Distribution by Sex')"
   ]
  },
  {
   "cell_type": "code",
   "execution_count": 32,
   "id": "e965638c",
   "metadata": {
    "execution": {
     "iopub.execute_input": "2022-12-23T21:33:42.729755Z",
     "iopub.status.busy": "2022-12-23T21:33:42.729289Z",
     "iopub.status.idle": "2022-12-23T21:33:42.964133Z",
     "shell.execute_reply": "2022-12-23T21:33:42.962681Z"
    },
    "papermill": {
     "duration": 0.375514,
     "end_time": "2022-12-23T21:33:42.967247",
     "exception": false,
     "start_time": "2022-12-23T21:33:42.591733",
     "status": "completed"
    },
    "tags": []
   },
   "outputs": [
    {
     "data": {
      "text/plain": [
       "<AxesSubplot:>"
      ]
     },
     "execution_count": 32,
     "metadata": {},
     "output_type": "execute_result"
    },
    {
     "data": {
      "image/png": "[encoded data removed]",
      "text/plain": [
       "<Figure size 432x288 with 1 Axes>"
      ]
     },
     "metadata": {
      "needs_background": "light"
     },
     "output_type": "display_data"
    }
   ],
   "source": [
    "### Plotting a boxplot to check if the column has any outliers \n",
    "\n",
    "dataset.boxplot(column = ['bmi'])"
   ]
  },
  {
   "cell_type": "markdown",
   "id": "c98de5cf",
   "metadata": {
    "papermill": {
     "duration": 0.042879,
     "end_time": "2022-12-23T21:33:43.053009",
     "exception": false,
     "start_time": "2022-12-23T21:33:43.010130",
     "status": "completed"
    },
    "tags": []
   },
   "source": [
    "From the above graph, we can see that there are a few outliers in the column - bmi. We will focus on removing these outliers during the Data Preprocessing phase."
   ]
  },
  {
   "cell_type": "markdown",
   "id": "985f9629",
   "metadata": {
    "papermill": {
     "duration": 0.042227,
     "end_time": "2022-12-23T21:33:43.139156",
     "exception": false,
     "start_time": "2022-12-23T21:33:43.096929",
     "status": "completed"
    },
    "tags": []
   },
   "source": [
    "##### 3.2.6 Numerical column - children"
   ]
  },
  {
   "cell_type": "code",
   "execution_count": 33,
   "id": "535f4561",
   "metadata": {
    "execution": {
     "iopub.execute_input": "2022-12-23T21:33:43.226612Z",
     "iopub.status.busy": "2022-12-23T21:33:43.226118Z",
     "iopub.status.idle": "2022-12-23T21:33:43.593321Z",
     "shell.execute_reply": "2022-12-23T21:33:43.592011Z"
    },
    "papermill": {
     "duration": 0.414838,
     "end_time": "2022-12-23T21:33:43.596423",
     "exception": false,
     "start_time": "2022-12-23T21:33:43.181585",
     "status": "completed"
    },
    "tags": []
   },
   "outputs": [
    {
     "data": {
      "text/plain": [
       "Text(0.5, 1.0, 'Distribution of the column - children')"
      ]
     },
     "execution_count": 33,
     "metadata": {},
     "output_type": "execute_result"
    },
    {
     "data": {
      "image/png": "[encoded data removed]",
      "text/plain": [
       "<Figure size 432x288 with 1 Axes>"
      ]
     },
     "metadata": {
      "needs_background": "light"
     },
     "output_type": "display_data"
    }
   ],
   "source": [
    "### Understanding the distribution of the column - children\n",
    "\n",
    "sns.distplot(dataset['children'], label = 'Skewness: %.2f'%(dataset['children'].skew()))\n",
    "plt.legend(loc = 'best')\n",
    "plt.title('Distribution of the column - children')"
   ]
  },
  {
   "cell_type": "markdown",
   "id": "2b5dec3d",
   "metadata": {
    "papermill": {
     "duration": 0.045316,
     "end_time": "2022-12-23T21:33:43.686552",
     "exception": false,
     "start_time": "2022-12-23T21:33:43.641236",
     "status": "completed"
    },
    "tags": []
   },
   "source": [
    "From the above graph, we can see that the graph is slightly skewed. Hence, we will remove this skewness during the Data Preprocessing phase."
   ]
  },
  {
   "cell_type": "code",
   "execution_count": 34,
   "id": "ebb895e7",
   "metadata": {
    "execution": {
     "iopub.execute_input": "2022-12-23T21:33:43.781512Z",
     "iopub.status.busy": "2022-12-23T21:33:43.780272Z",
     "iopub.status.idle": "2022-12-23T21:33:44.004399Z",
     "shell.execute_reply": "2022-12-23T21:33:44.002623Z"
    },
    "papermill": {
     "duration": 0.27563,
     "end_time": "2022-12-23T21:33:44.007321",
     "exception": false,
     "start_time": "2022-12-23T21:33:43.731691",
     "status": "completed"
    },
    "tags": []
   },
   "outputs": [
    {
     "data": {
      "text/plain": [
       "<AxesSubplot:>"
      ]
     },
     "execution_count": 34,
     "metadata": {},
     "output_type": "execute_result"
    },
    {
     "data": {
      "image/png": "[encoded data removed]",
      "text/plain": [
       "<Figure size 432x288 with 1 Axes>"
      ]
     },
     "metadata": {
      "needs_background": "light"
     },
     "output_type": "display_data"
    }
   ],
   "source": [
    "### Plotting a boxplot to check if the column has any outliers \n",
    "\n",
    "dataset.boxplot(column = ['children'])"
   ]
  },
  {
   "cell_type": "markdown",
   "id": "b3f5a68d",
   "metadata": {
    "papermill": {
     "duration": 0.044084,
     "end_time": "2022-12-23T21:33:44.096723",
     "exception": false,
     "start_time": "2022-12-23T21:33:44.052639",
     "status": "completed"
    },
    "tags": []
   },
   "source": [
    "From the above boxplot, we can see that there are no outliers in the column."
   ]
  },
  {
   "cell_type": "markdown",
   "id": "11b7e355",
   "metadata": {
    "papermill": {
     "duration": 0.045399,
     "end_time": "2022-12-23T21:33:44.186769",
     "exception": false,
     "start_time": "2022-12-23T21:33:44.141370",
     "status": "completed"
    },
    "tags": []
   },
   "source": [
    "##### 3.2.7 Numerical variable - charges"
   ]
  },
  {
   "cell_type": "code",
   "execution_count": 35,
   "id": "9e2b12b6",
   "metadata": {
    "execution": {
     "iopub.execute_input": "2022-12-23T21:33:44.278069Z",
     "iopub.status.busy": "2022-12-23T21:33:44.277575Z",
     "iopub.status.idle": "2022-12-23T21:33:44.747264Z",
     "shell.execute_reply": "2022-12-23T21:33:44.746273Z"
    },
    "papermill": {
     "duration": 0.519596,
     "end_time": "2022-12-23T21:33:44.751108",
     "exception": false,
     "start_time": "2022-12-23T21:33:44.231512",
     "status": "completed"
    },
    "tags": []
   },
   "outputs": [
    {
     "data": {
      "text/plain": [
       "Text(0.5, 1.0, 'Distribution of the column - charges')"
      ]
     },
     "execution_count": 35,
     "metadata": {},
     "output_type": "execute_result"
    },
    {
     "data": {
      "image/png": "[encoded data removed]",
      "text/plain": [
       "<Figure size 432x288 with 1 Axes>"
      ]
     },
     "metadata": {
      "needs_background": "light"
     },
     "output_type": "display_data"
    }
   ],
   "source": [
    "### Understanding the distribution of the column - charges\n",
    "\n",
    "sns.distplot(dataset['charges'], label = 'Skewness: %.2f'%(dataset['charges'].skew()))\n",
    "plt.legend(loc = 'best')\n",
    "plt.title('Distribution of the column - charges')"
   ]
  },
  {
   "cell_type": "code",
   "execution_count": 36,
   "id": "6a289284",
   "metadata": {
    "execution": {
     "iopub.execute_input": "2022-12-23T21:33:44.869925Z",
     "iopub.status.busy": "2022-12-23T21:33:44.868759Z",
     "iopub.status.idle": "2022-12-23T21:33:45.306207Z",
     "shell.execute_reply": "2022-12-23T21:33:45.304745Z"
    },
    "papermill": {
     "duration": 0.498427,
     "end_time": "2022-12-23T21:33:45.309898",
     "exception": false,
     "start_time": "2022-12-23T21:33:44.811471",
     "status": "completed"
    },
    "tags": []
   },
   "outputs": [
    {
     "data": {
      "text/plain": [
       "<AxesSubplot:>"
      ]
     },
     "execution_count": 36,
     "metadata": {},
     "output_type": "execute_result"
    },
    {
     "data": {
      "image/png": "[encoded data removed]",
      "text/plain": [
       "<Figure size 432x288 with 1 Axes>"
      ]
     },
     "metadata": {
      "needs_background": "light"
     },
     "output_type": "display_data"
    }
   ],
   "source": [
    "### Plotting a boxplot to check if the column has any outliers \n",
    "\n",
    "dataset.boxplot(column = ['charges'])"
   ]
  },
  {
   "cell_type": "markdown",
   "id": "76bbca77",
   "metadata": {
    "papermill": {
     "duration": 0.045552,
     "end_time": "2022-12-23T21:33:45.414291",
     "exception": false,
     "start_time": "2022-12-23T21:33:45.368739",
     "status": "completed"
    },
    "tags": []
   },
   "source": [
    "From the above graph, we can see that there are a few outliers in the column - charges. We will focus on removing these outliers during the Data Preprocessing phase."
   ]
  },
  {
   "cell_type": "markdown",
   "id": "a90e87b5",
   "metadata": {
    "papermill": {
     "duration": 0.045246,
     "end_time": "2022-12-23T21:33:45.505328",
     "exception": false,
     "start_time": "2022-12-23T21:33:45.460082",
     "status": "completed"
    },
    "tags": []
   },
   "source": [
    "# 4. Data Preprocessing"
   ]
  },
  {
   "cell_type": "markdown",
   "id": "cc3f2018",
   "metadata": {
    "papermill": {
     "duration": 0.055292,
     "end_time": "2022-12-23T21:33:45.607462",
     "exception": false,
     "start_time": "2022-12-23T21:33:45.552170",
     "status": "completed"
    },
    "tags": []
   },
   "source": [
    "Data preprocessing is the process of getting our dataset ready for model training. In this section, we will perform the following preprocessing steps:\n",
    "\n",
    "1. Drop unnecessary columns\n",
    "2. Data Trasformation\n",
    "3. Feature Encoding\n",
    "4. Feature Selection"
   ]
  },
  {
   "cell_type": "markdown",
   "id": "4801d884",
   "metadata": {
    "papermill": {
     "duration": 0.044981,
     "end_time": "2022-12-23T21:33:45.697373",
     "exception": false,
     "start_time": "2022-12-23T21:33:45.652392",
     "status": "completed"
    },
    "tags": []
   },
   "source": [
    "#### 4.1 Drop unnecessary columns"
   ]
  },
  {
   "cell_type": "markdown",
   "id": "9d541614",
   "metadata": {
    "papermill": {
     "duration": 0.044532,
     "end_time": "2022-12-23T21:33:45.786877",
     "exception": false,
     "start_time": "2022-12-23T21:33:45.742345",
     "status": "completed"
    },
    "tags": []
   },
   "source": [
    "From the dataset, we can see that the column region is redundant, as we can see that it is completely dependent on the columns sex and smoker."
   ]
  },
  {
   "cell_type": "code",
   "execution_count": 37,
   "id": "5917bc3c",
   "metadata": {
    "execution": {
     "iopub.execute_input": "2022-12-23T21:33:45.879341Z",
     "iopub.status.busy": "2022-12-23T21:33:45.878485Z",
     "iopub.status.idle": "2022-12-23T21:33:45.885230Z",
     "shell.execute_reply": "2022-12-23T21:33:45.884214Z"
    },
    "papermill": {
     "duration": 0.056163,
     "end_time": "2022-12-23T21:33:45.888079",
     "exception": false,
     "start_time": "2022-12-23T21:33:45.831916",
     "status": "completed"
    },
    "tags": []
   },
   "outputs": [],
   "source": [
    "### Dropping the column - region\n",
    "\n",
    "modified_dataset = dataset.copy()\n",
    "modified_dataset.drop(['region'], axis = 1, inplace = True)"
   ]
  },
  {
   "cell_type": "code",
   "execution_count": 38,
   "id": "165ed22c",
   "metadata": {
    "execution": {
     "iopub.execute_input": "2022-12-23T21:33:45.982630Z",
     "iopub.status.busy": "2022-12-23T21:33:45.981776Z",
     "iopub.status.idle": "2022-12-23T21:33:46.003802Z",
     "shell.execute_reply": "2022-12-23T21:33:46.002052Z"
    },
    "papermill": {
     "duration": 0.073373,
     "end_time": "2022-12-23T21:33:46.006557",
     "exception": false,
     "start_time": "2022-12-23T21:33:45.933184",
     "status": "completed"
    },
    "tags": []
   },
   "outputs": [
    {
     "data": {
      "text/html": [
       "<div>\n",
       "<style scoped>\n",
       "    .dataframe tbody tr th:only-of-type {\n",
       "        vertical-align: middle;\n",
       "    }\n",
       "\n",
       "    .dataframe tbody tr th {\n",
       "        vertical-align: top;\n",
       "    }\n",
       "\n",
       "    .dataframe thead th {\n",
       "        text-align: right;\n",
       "    }\n",
       "</style>\n",
       "<table border=\"1\" class=\"dataframe\">\n",
       "  <thead>\n",
       "    <tr style=\"text-align: right;\">\n",
       "      <th></th>\n",
       "      <th>age</th>\n",
       "      <th>sex</th>\n",
       "      <th>bmi</th>\n",
       "      <th>children</th>\n",
       "      <th>smoker</th>\n",
       "      <th>charges</th>\n",
       "    </tr>\n",
       "  </thead>\n",
       "  <tbody>\n",
       "    <tr>\n",
       "      <th>0</th>\n",
       "      <td>19</td>\n",
       "      <td>female</td>\n",
       "      <td>27.900</td>\n",
       "      <td>0</td>\n",
       "      <td>yes</td>\n",
       "      <td>16884.92400</td>\n",
       "    </tr>\n",
       "    <tr>\n",
       "      <th>1</th>\n",
       "      <td>18</td>\n",
       "      <td>male</td>\n",
       "      <td>33.770</td>\n",
       "      <td>1</td>\n",
       "      <td>no</td>\n",
       "      <td>1725.55230</td>\n",
       "    </tr>\n",
       "    <tr>\n",
       "      <th>2</th>\n",
       "      <td>28</td>\n",
       "      <td>male</td>\n",
       "      <td>33.000</td>\n",
       "      <td>3</td>\n",
       "      <td>no</td>\n",
       "      <td>4449.46200</td>\n",
       "    </tr>\n",
       "    <tr>\n",
       "      <th>3</th>\n",
       "      <td>33</td>\n",
       "      <td>male</td>\n",
       "      <td>22.705</td>\n",
       "      <td>0</td>\n",
       "      <td>no</td>\n",
       "      <td>21984.47061</td>\n",
       "    </tr>\n",
       "    <tr>\n",
       "      <th>4</th>\n",
       "      <td>32</td>\n",
       "      <td>male</td>\n",
       "      <td>28.880</td>\n",
       "      <td>0</td>\n",
       "      <td>no</td>\n",
       "      <td>3866.85520</td>\n",
       "    </tr>\n",
       "    <tr>\n",
       "      <th>...</th>\n",
       "      <td>...</td>\n",
       "      <td>...</td>\n",
       "      <td>...</td>\n",
       "      <td>...</td>\n",
       "      <td>...</td>\n",
       "      <td>...</td>\n",
       "    </tr>\n",
       "    <tr>\n",
       "      <th>1333</th>\n",
       "      <td>50</td>\n",
       "      <td>male</td>\n",
       "      <td>30.970</td>\n",
       "      <td>3</td>\n",
       "      <td>no</td>\n",
       "      <td>10600.54830</td>\n",
       "    </tr>\n",
       "    <tr>\n",
       "      <th>1334</th>\n",
       "      <td>18</td>\n",
       "      <td>female</td>\n",
       "      <td>31.920</td>\n",
       "      <td>0</td>\n",
       "      <td>no</td>\n",
       "      <td>2205.98080</td>\n",
       "    </tr>\n",
       "    <tr>\n",
       "      <th>1335</th>\n",
       "      <td>18</td>\n",
       "      <td>female</td>\n",
       "      <td>36.850</td>\n",
       "      <td>0</td>\n",
       "      <td>no</td>\n",
       "      <td>1629.83350</td>\n",
       "    </tr>\n",
       "    <tr>\n",
       "      <th>1336</th>\n",
       "      <td>21</td>\n",
       "      <td>female</td>\n",
       "      <td>25.800</td>\n",
       "      <td>0</td>\n",
       "      <td>no</td>\n",
       "      <td>2007.94500</td>\n",
       "    </tr>\n",
       "    <tr>\n",
       "      <th>1337</th>\n",
       "      <td>61</td>\n",
       "      <td>female</td>\n",
       "      <td>29.070</td>\n",
       "      <td>0</td>\n",
       "      <td>yes</td>\n",
       "      <td>29141.36030</td>\n",
       "    </tr>\n",
       "  </tbody>\n",
       "</table>\n",
       "<p>1338 rows × 6 columns</p>\n",
       "</div>"
      ],
      "text/plain": [
       "      age     sex     bmi  children smoker      charges\n",
       "0      19  female  27.900         0    yes  16884.92400\n",
       "1      18    male  33.770         1     no   1725.55230\n",
       "2      28    male  33.000         3     no   4449.46200\n",
       "3      33    male  22.705         0     no  21984.47061\n",
       "4      32    male  28.880         0     no   3866.85520\n",
       "...   ...     ...     ...       ...    ...          ...\n",
       "1333   50    male  30.970         3     no  10600.54830\n",
       "1334   18  female  31.920         0     no   2205.98080\n",
       "1335   18  female  36.850         0     no   1629.83350\n",
       "1336   21  female  25.800         0     no   2007.94500\n",
       "1337   61  female  29.070         0    yes  29141.36030\n",
       "\n",
       "[1338 rows x 6 columns]"
      ]
     },
     "execution_count": 38,
     "metadata": {},
     "output_type": "execute_result"
    }
   ],
   "source": [
    "### Looking at the modified dataset\n",
    "\n",
    "modified_dataset"
   ]
  },
  {
   "cell_type": "markdown",
   "id": "ff2e3155",
   "metadata": {
    "papermill": {
     "duration": 0.044903,
     "end_time": "2022-12-23T21:33:46.096693",
     "exception": false,
     "start_time": "2022-12-23T21:33:46.051790",
     "status": "completed"
    },
    "tags": []
   },
   "source": [
    "#### 4.2 Data Transformation"
   ]
  },
  {
   "cell_type": "markdown",
   "id": "e06a1c6a",
   "metadata": {
    "papermill": {
     "duration": 0.044608,
     "end_time": "2022-12-23T21:33:46.187827",
     "exception": false,
     "start_time": "2022-12-23T21:33:46.143219",
     "status": "completed"
    },
    "tags": []
   },
   "source": [
    "Here, we will focus on transforming the column - children using Box Cox transformation. After that we will scale all the columns using Min Max normalization."
   ]
  },
  {
   "cell_type": "markdown",
   "id": "06c18b8b",
   "metadata": {
    "papermill": {
     "duration": 0.045651,
     "end_time": "2022-12-23T21:33:46.280317",
     "exception": false,
     "start_time": "2022-12-23T21:33:46.234666",
     "status": "completed"
    },
    "tags": []
   },
   "source": [
    "##### 4.2.1 Box Cox transforming the column - children"
   ]
  },
  {
   "cell_type": "code",
   "execution_count": 39,
   "id": "f18f4b42",
   "metadata": {
    "execution": {
     "iopub.execute_input": "2022-12-23T21:33:46.374605Z",
     "iopub.status.busy": "2022-12-23T21:33:46.373798Z",
     "iopub.status.idle": "2022-12-23T21:33:46.736622Z",
     "shell.execute_reply": "2022-12-23T21:33:46.735215Z"
    },
    "papermill": {
     "duration": 0.412473,
     "end_time": "2022-12-23T21:33:46.739593",
     "exception": false,
     "start_time": "2022-12-23T21:33:46.327120",
     "status": "completed"
    },
    "tags": []
   },
   "outputs": [
    {
     "data": {
      "text/plain": [
       "Text(0.5, 1.0, 'Distribution of the column - children')"
      ]
     },
     "execution_count": 39,
     "metadata": {},
     "output_type": "execute_result"
    },
    {
     "data": {
      "image/png": "[encoded data removed]",
      "text/plain": [
       "<Figure size 432x288 with 1 Axes>"
      ]
     },
     "metadata": {
      "needs_background": "light"
     },
     "output_type": "display_data"
    }
   ],
   "source": [
    "### Understanding the distribution of the column - children\n",
    "\n",
    "sns.distplot(modified_dataset['children'], label = 'Skewness: %.2f'%(modified_dataset['children'].skew()))\n",
    "plt.legend(loc = 'best')\n",
    "plt.title('Distribution of the column - children')"
   ]
  },
  {
   "cell_type": "code",
   "execution_count": 40,
   "id": "f924f4fa",
   "metadata": {
    "execution": {
     "iopub.execute_input": "2022-12-23T21:33:46.834704Z",
     "iopub.status.busy": "2022-12-23T21:33:46.834190Z",
     "iopub.status.idle": "2022-12-23T21:33:47.159561Z",
     "shell.execute_reply": "2022-12-23T21:33:47.157992Z"
    },
    "papermill": {
     "duration": 0.376409,
     "end_time": "2022-12-23T21:33:47.162181",
     "exception": false,
     "start_time": "2022-12-23T21:33:46.785772",
     "status": "completed"
    },
    "tags": []
   },
   "outputs": [
    {
     "data": {
      "text/plain": [
       "Text(0.5, 1.0, 'Distribution of the column - children')"
      ]
     },
     "execution_count": 40,
     "metadata": {},
     "output_type": "execute_result"
    },
    {
     "data": {
      "image/png": "[encoded data removed]",
      "text/plain": [
       "<Figure size 432x288 with 1 Axes>"
      ]
     },
     "metadata": {
      "needs_background": "light"
     },
     "output_type": "display_data"
    }
   ],
   "source": [
    "### Understanding the distribution of the data Box_Cox(children)\n",
    "\n",
    "children_data = [0.1 if value == 0 else value for value in modified_dataset['children']]\n",
    "\n",
    "modified_children, _ = stats.boxcox(children_data)\n",
    "modified_dataset['children'] = modified_children\n",
    "\n",
    "sns.distplot(modified_dataset['children'], label = 'Skewness: %.2f'%(modified_dataset['children'].skew()))\n",
    "plt.legend(loc = 'best')\n",
    "plt.title('Distribution of the column - children')"
   ]
  },
  {
   "cell_type": "markdown",
   "id": "4eb770f9",
   "metadata": {
    "papermill": {
     "duration": 0.047117,
     "end_time": "2022-12-23T21:33:47.256792",
     "exception": false,
     "start_time": "2022-12-23T21:33:47.209675",
     "status": "completed"
    },
    "tags": []
   },
   "source": [
    "From the above graph, we can see that most of the skewness is removed in the column."
   ]
  },
  {
   "cell_type": "markdown",
   "id": "b64ff762",
   "metadata": {
    "papermill": {
     "duration": 0.047426,
     "end_time": "2022-12-23T21:33:47.351517",
     "exception": false,
     "start_time": "2022-12-23T21:33:47.304091",
     "status": "completed"
    },
    "tags": []
   },
   "source": [
    "##### 4.2.2 Normalizing the numerical columns"
   ]
  },
  {
   "cell_type": "code",
   "execution_count": 41,
   "id": "21d5cb61",
   "metadata": {
    "execution": {
     "iopub.execute_input": "2022-12-23T21:33:47.448764Z",
     "iopub.status.busy": "2022-12-23T21:33:47.447612Z",
     "iopub.status.idle": "2022-12-23T21:33:47.459388Z",
     "shell.execute_reply": "2022-12-23T21:33:47.458222Z"
    },
    "papermill": {
     "duration": 0.063305,
     "end_time": "2022-12-23T21:33:47.461965",
     "exception": false,
     "start_time": "2022-12-23T21:33:47.398660",
     "status": "completed"
    },
    "tags": []
   },
   "outputs": [],
   "source": [
    "### A function to normalize numerical columns\n",
    "\n",
    "def normalize_columns(dataframe, column):\n",
    "    data = dataframe[column]\n",
    "    mini = min(data)\n",
    "    maxi = max(data)\n",
    "    \n",
    "    new_data = []\n",
    "    for value in data:\n",
    "        new_data.append((value - mini)/(maxi - mini))\n",
    "    \n",
    "    dataframe[column] = new_data\n",
    "\n",
    "numerical_columns = ['age', 'bmi', 'children']\n",
    "\n",
    "for each_column in numerical_columns:\n",
    "    normalize_columns(modified_dataset, each_column)"
   ]
  },
  {
   "cell_type": "code",
   "execution_count": 42,
   "id": "7327dc53",
   "metadata": {
    "execution": {
     "iopub.execute_input": "2022-12-23T21:33:47.557066Z",
     "iopub.status.busy": "2022-12-23T21:33:47.556590Z",
     "iopub.status.idle": "2022-12-23T21:33:47.580895Z",
     "shell.execute_reply": "2022-12-23T21:33:47.579534Z"
    },
    "papermill": {
     "duration": 0.075362,
     "end_time": "2022-12-23T21:33:47.583478",
     "exception": false,
     "start_time": "2022-12-23T21:33:47.508116",
     "status": "completed"
    },
    "tags": []
   },
   "outputs": [
    {
     "data": {
      "text/html": [
       "<div>\n",
       "<style scoped>\n",
       "    .dataframe tbody tr th:only-of-type {\n",
       "        vertical-align: middle;\n",
       "    }\n",
       "\n",
       "    .dataframe tbody tr th {\n",
       "        vertical-align: top;\n",
       "    }\n",
       "\n",
       "    .dataframe thead th {\n",
       "        text-align: right;\n",
       "    }\n",
       "</style>\n",
       "<table border=\"1\" class=\"dataframe\">\n",
       "  <thead>\n",
       "    <tr style=\"text-align: right;\">\n",
       "      <th></th>\n",
       "      <th>age</th>\n",
       "      <th>sex</th>\n",
       "      <th>bmi</th>\n",
       "      <th>children</th>\n",
       "      <th>smoker</th>\n",
       "      <th>charges</th>\n",
       "    </tr>\n",
       "  </thead>\n",
       "  <tbody>\n",
       "    <tr>\n",
       "      <th>0</th>\n",
       "      <td>0.021739</td>\n",
       "      <td>female</td>\n",
       "      <td>0.321227</td>\n",
       "      <td>0.000000</td>\n",
       "      <td>yes</td>\n",
       "      <td>16884.92400</td>\n",
       "    </tr>\n",
       "    <tr>\n",
       "      <th>1</th>\n",
       "      <td>0.000000</td>\n",
       "      <td>male</td>\n",
       "      <td>0.479150</td>\n",
       "      <td>0.559508</td>\n",
       "      <td>no</td>\n",
       "      <td>1725.55230</td>\n",
       "    </tr>\n",
       "    <tr>\n",
       "      <th>2</th>\n",
       "      <td>0.217391</td>\n",
       "      <td>male</td>\n",
       "      <td>0.458434</td>\n",
       "      <td>0.855475</td>\n",
       "      <td>no</td>\n",
       "      <td>4449.46200</td>\n",
       "    </tr>\n",
       "    <tr>\n",
       "      <th>3</th>\n",
       "      <td>0.326087</td>\n",
       "      <td>male</td>\n",
       "      <td>0.181464</td>\n",
       "      <td>0.000000</td>\n",
       "      <td>no</td>\n",
       "      <td>21984.47061</td>\n",
       "    </tr>\n",
       "    <tr>\n",
       "      <th>4</th>\n",
       "      <td>0.304348</td>\n",
       "      <td>male</td>\n",
       "      <td>0.347592</td>\n",
       "      <td>0.000000</td>\n",
       "      <td>no</td>\n",
       "      <td>3866.85520</td>\n",
       "    </tr>\n",
       "    <tr>\n",
       "      <th>...</th>\n",
       "      <td>...</td>\n",
       "      <td>...</td>\n",
       "      <td>...</td>\n",
       "      <td>...</td>\n",
       "      <td>...</td>\n",
       "      <td>...</td>\n",
       "    </tr>\n",
       "    <tr>\n",
       "      <th>1333</th>\n",
       "      <td>0.695652</td>\n",
       "      <td>male</td>\n",
       "      <td>0.403820</td>\n",
       "      <td>0.855475</td>\n",
       "      <td>no</td>\n",
       "      <td>10600.54830</td>\n",
       "    </tr>\n",
       "    <tr>\n",
       "      <th>1334</th>\n",
       "      <td>0.000000</td>\n",
       "      <td>female</td>\n",
       "      <td>0.429379</td>\n",
       "      <td>0.000000</td>\n",
       "      <td>no</td>\n",
       "      <td>2205.98080</td>\n",
       "    </tr>\n",
       "    <tr>\n",
       "      <th>1335</th>\n",
       "      <td>0.000000</td>\n",
       "      <td>female</td>\n",
       "      <td>0.562012</td>\n",
       "      <td>0.000000</td>\n",
       "      <td>no</td>\n",
       "      <td>1629.83350</td>\n",
       "    </tr>\n",
       "    <tr>\n",
       "      <th>1336</th>\n",
       "      <td>0.065217</td>\n",
       "      <td>female</td>\n",
       "      <td>0.264730</td>\n",
       "      <td>0.000000</td>\n",
       "      <td>no</td>\n",
       "      <td>2007.94500</td>\n",
       "    </tr>\n",
       "    <tr>\n",
       "      <th>1337</th>\n",
       "      <td>0.934783</td>\n",
       "      <td>female</td>\n",
       "      <td>0.352704</td>\n",
       "      <td>0.000000</td>\n",
       "      <td>yes</td>\n",
       "      <td>29141.36030</td>\n",
       "    </tr>\n",
       "  </tbody>\n",
       "</table>\n",
       "<p>1338 rows × 6 columns</p>\n",
       "</div>"
      ],
      "text/plain": [
       "           age     sex       bmi  children smoker      charges\n",
       "0     0.021739  female  0.321227  0.000000    yes  16884.92400\n",
       "1     0.000000    male  0.479150  0.559508     no   1725.55230\n",
       "2     0.217391    male  0.458434  0.855475     no   4449.46200\n",
       "3     0.326087    male  0.181464  0.000000     no  21984.47061\n",
       "4     0.304348    male  0.347592  0.000000     no   3866.85520\n",
       "...        ...     ...       ...       ...    ...          ...\n",
       "1333  0.695652    male  0.403820  0.855475     no  10600.54830\n",
       "1334  0.000000  female  0.429379  0.000000     no   2205.98080\n",
       "1335  0.000000  female  0.562012  0.000000     no   1629.83350\n",
       "1336  0.065217  female  0.264730  0.000000     no   2007.94500\n",
       "1337  0.934783  female  0.352704  0.000000    yes  29141.36030\n",
       "\n",
       "[1338 rows x 6 columns]"
      ]
     },
     "execution_count": 42,
     "metadata": {},
     "output_type": "execute_result"
    }
   ],
   "source": [
    "### Looking at the sample records of the dataset\n",
    "\n",
    "modified_dataset"
   ]
  },
  {
   "cell_type": "markdown",
   "id": "774d36b2",
   "metadata": {
    "papermill": {
     "duration": 0.059086,
     "end_time": "2022-12-23T21:33:47.688458",
     "exception": false,
     "start_time": "2022-12-23T21:33:47.629372",
     "status": "completed"
    },
    "tags": []
   },
   "source": [
    "#### 4.3 Feature Encoding"
   ]
  },
  {
   "cell_type": "markdown",
   "id": "0c93596d",
   "metadata": {
    "papermill": {
     "duration": 0.045581,
     "end_time": "2022-12-23T21:33:47.780375",
     "exception": false,
     "start_time": "2022-12-23T21:33:47.734794",
     "status": "completed"
    },
    "tags": []
   },
   "source": [
    "Feature encoding is the process of turning categorical data in a dataset into numerical data. It is essential that we perform feature encoding because most machine learning models can only interpret numerical data and not data in text form.\n",
    "\n",
    "Here, we will use One Hot Encoding for the columns - sex, smoker"
   ]
  },
  {
   "cell_type": "code",
   "execution_count": 43,
   "id": "c00f9b94",
   "metadata": {
    "execution": {
     "iopub.execute_input": "2022-12-23T21:33:47.875768Z",
     "iopub.status.busy": "2022-12-23T21:33:47.875290Z",
     "iopub.status.idle": "2022-12-23T21:33:47.900761Z",
     "shell.execute_reply": "2022-12-23T21:33:47.899287Z"
    },
    "papermill": {
     "duration": 0.076431,
     "end_time": "2022-12-23T21:33:47.903420",
     "exception": false,
     "start_time": "2022-12-23T21:33:47.826989",
     "status": "completed"
    },
    "tags": []
   },
   "outputs": [
    {
     "data": {
      "text/html": [
       "<div>\n",
       "<style scoped>\n",
       "    .dataframe tbody tr th:only-of-type {\n",
       "        vertical-align: middle;\n",
       "    }\n",
       "\n",
       "    .dataframe tbody tr th {\n",
       "        vertical-align: top;\n",
       "    }\n",
       "\n",
       "    .dataframe thead th {\n",
       "        text-align: right;\n",
       "    }\n",
       "</style>\n",
       "<table border=\"1\" class=\"dataframe\">\n",
       "  <thead>\n",
       "    <tr style=\"text-align: right;\">\n",
       "      <th></th>\n",
       "      <th>age</th>\n",
       "      <th>bmi</th>\n",
       "      <th>children</th>\n",
       "      <th>charges</th>\n",
       "      <th>sex_female</th>\n",
       "      <th>sex_male</th>\n",
       "      <th>smoker_no</th>\n",
       "      <th>smoker_yes</th>\n",
       "    </tr>\n",
       "  </thead>\n",
       "  <tbody>\n",
       "    <tr>\n",
       "      <th>0</th>\n",
       "      <td>0.021739</td>\n",
       "      <td>0.321227</td>\n",
       "      <td>0.000000</td>\n",
       "      <td>16884.92400</td>\n",
       "      <td>1</td>\n",
       "      <td>0</td>\n",
       "      <td>0</td>\n",
       "      <td>1</td>\n",
       "    </tr>\n",
       "    <tr>\n",
       "      <th>1</th>\n",
       "      <td>0.000000</td>\n",
       "      <td>0.479150</td>\n",
       "      <td>0.559508</td>\n",
       "      <td>1725.55230</td>\n",
       "      <td>0</td>\n",
       "      <td>1</td>\n",
       "      <td>1</td>\n",
       "      <td>0</td>\n",
       "    </tr>\n",
       "    <tr>\n",
       "      <th>2</th>\n",
       "      <td>0.217391</td>\n",
       "      <td>0.458434</td>\n",
       "      <td>0.855475</td>\n",
       "      <td>4449.46200</td>\n",
       "      <td>0</td>\n",
       "      <td>1</td>\n",
       "      <td>1</td>\n",
       "      <td>0</td>\n",
       "    </tr>\n",
       "    <tr>\n",
       "      <th>3</th>\n",
       "      <td>0.326087</td>\n",
       "      <td>0.181464</td>\n",
       "      <td>0.000000</td>\n",
       "      <td>21984.47061</td>\n",
       "      <td>0</td>\n",
       "      <td>1</td>\n",
       "      <td>1</td>\n",
       "      <td>0</td>\n",
       "    </tr>\n",
       "    <tr>\n",
       "      <th>4</th>\n",
       "      <td>0.304348</td>\n",
       "      <td>0.347592</td>\n",
       "      <td>0.000000</td>\n",
       "      <td>3866.85520</td>\n",
       "      <td>0</td>\n",
       "      <td>1</td>\n",
       "      <td>1</td>\n",
       "      <td>0</td>\n",
       "    </tr>\n",
       "    <tr>\n",
       "      <th>...</th>\n",
       "      <td>...</td>\n",
       "      <td>...</td>\n",
       "      <td>...</td>\n",
       "      <td>...</td>\n",
       "      <td>...</td>\n",
       "      <td>...</td>\n",
       "      <td>...</td>\n",
       "      <td>...</td>\n",
       "    </tr>\n",
       "    <tr>\n",
       "      <th>1333</th>\n",
       "      <td>0.695652</td>\n",
       "      <td>0.403820</td>\n",
       "      <td>0.855475</td>\n",
       "      <td>10600.54830</td>\n",
       "      <td>0</td>\n",
       "      <td>1</td>\n",
       "      <td>1</td>\n",
       "      <td>0</td>\n",
       "    </tr>\n",
       "    <tr>\n",
       "      <th>1334</th>\n",
       "      <td>0.000000</td>\n",
       "      <td>0.429379</td>\n",
       "      <td>0.000000</td>\n",
       "      <td>2205.98080</td>\n",
       "      <td>1</td>\n",
       "      <td>0</td>\n",
       "      <td>1</td>\n",
       "      <td>0</td>\n",
       "    </tr>\n",
       "    <tr>\n",
       "      <th>1335</th>\n",
       "      <td>0.000000</td>\n",
       "      <td>0.562012</td>\n",
       "      <td>0.000000</td>\n",
       "      <td>1629.83350</td>\n",
       "      <td>1</td>\n",
       "      <td>0</td>\n",
       "      <td>1</td>\n",
       "      <td>0</td>\n",
       "    </tr>\n",
       "    <tr>\n",
       "      <th>1336</th>\n",
       "      <td>0.065217</td>\n",
       "      <td>0.264730</td>\n",
       "      <td>0.000000</td>\n",
       "      <td>2007.94500</td>\n",
       "      <td>1</td>\n",
       "      <td>0</td>\n",
       "      <td>1</td>\n",
       "      <td>0</td>\n",
       "    </tr>\n",
       "    <tr>\n",
       "      <th>1337</th>\n",
       "      <td>0.934783</td>\n",
       "      <td>0.352704</td>\n",
       "      <td>0.000000</td>\n",
       "      <td>29141.36030</td>\n",
       "      <td>1</td>\n",
       "      <td>0</td>\n",
       "      <td>0</td>\n",
       "      <td>1</td>\n",
       "    </tr>\n",
       "  </tbody>\n",
       "</table>\n",
       "<p>1338 rows × 8 columns</p>\n",
       "</div>"
      ],
      "text/plain": [
       "           age       bmi  children      charges  sex_female  sex_male  \\\n",
       "0     0.021739  0.321227  0.000000  16884.92400           1         0   \n",
       "1     0.000000  0.479150  0.559508   1725.55230           0         1   \n",
       "2     0.217391  0.458434  0.855475   4449.46200           0         1   \n",
       "3     0.326087  0.181464  0.000000  21984.47061           0         1   \n",
       "4     0.304348  0.347592  0.000000   3866.85520           0         1   \n",
       "...        ...       ...       ...          ...         ...       ...   \n",
       "1333  0.695652  0.403820  0.855475  10600.54830           0         1   \n",
       "1334  0.000000  0.429379  0.000000   2205.98080           1         0   \n",
       "1335  0.000000  0.562012  0.000000   1629.83350           1         0   \n",
       "1336  0.065217  0.264730  0.000000   2007.94500           1         0   \n",
       "1337  0.934783  0.352704  0.000000  29141.36030           1         0   \n",
       "\n",
       "      smoker_no  smoker_yes  \n",
       "0             0           1  \n",
       "1             1           0  \n",
       "2             1           0  \n",
       "3             1           0  \n",
       "4             1           0  \n",
       "...         ...         ...  \n",
       "1333          1           0  \n",
       "1334          1           0  \n",
       "1335          1           0  \n",
       "1336          1           0  \n",
       "1337          0           1  \n",
       "\n",
       "[1338 rows x 8 columns]"
      ]
     },
     "execution_count": 43,
     "metadata": {},
     "output_type": "execute_result"
    }
   ],
   "source": [
    "### One Hot Encoding the columns - sex, smoker of the dataset\n",
    "\n",
    "encoded_dataset = pd.get_dummies(data = modified_dataset, columns = ['sex', 'smoker'])\n",
    "encoded_dataset"
   ]
  },
  {
   "cell_type": "code",
   "execution_count": 44,
   "id": "bb70c00c",
   "metadata": {
    "execution": {
     "iopub.execute_input": "2022-12-23T21:33:48.000299Z",
     "iopub.status.busy": "2022-12-23T21:33:47.999796Z",
     "iopub.status.idle": "2022-12-23T21:33:48.025869Z",
     "shell.execute_reply": "2022-12-23T21:33:48.024557Z"
    },
    "papermill": {
     "duration": 0.077993,
     "end_time": "2022-12-23T21:33:48.028774",
     "exception": false,
     "start_time": "2022-12-23T21:33:47.950781",
     "status": "completed"
    },
    "scrolled": true,
    "tags": []
   },
   "outputs": [
    {
     "data": {
      "text/html": [
       "<div>\n",
       "<style scoped>\n",
       "    .dataframe tbody tr th:only-of-type {\n",
       "        vertical-align: middle;\n",
       "    }\n",
       "\n",
       "    .dataframe tbody tr th {\n",
       "        vertical-align: top;\n",
       "    }\n",
       "\n",
       "    .dataframe thead th {\n",
       "        text-align: right;\n",
       "    }\n",
       "</style>\n",
       "<table border=\"1\" class=\"dataframe\">\n",
       "  <thead>\n",
       "    <tr style=\"text-align: right;\">\n",
       "      <th></th>\n",
       "      <th>age</th>\n",
       "      <th>bmi</th>\n",
       "      <th>children</th>\n",
       "      <th>sex_female</th>\n",
       "      <th>sex_male</th>\n",
       "      <th>smoker_no</th>\n",
       "      <th>smoker_yes</th>\n",
       "      <th>Target</th>\n",
       "    </tr>\n",
       "  </thead>\n",
       "  <tbody>\n",
       "    <tr>\n",
       "      <th>0</th>\n",
       "      <td>0.021739</td>\n",
       "      <td>0.321227</td>\n",
       "      <td>0.000000</td>\n",
       "      <td>1</td>\n",
       "      <td>0</td>\n",
       "      <td>0</td>\n",
       "      <td>1</td>\n",
       "      <td>16884.92400</td>\n",
       "    </tr>\n",
       "    <tr>\n",
       "      <th>1</th>\n",
       "      <td>0.000000</td>\n",
       "      <td>0.479150</td>\n",
       "      <td>0.559508</td>\n",
       "      <td>0</td>\n",
       "      <td>1</td>\n",
       "      <td>1</td>\n",
       "      <td>0</td>\n",
       "      <td>1725.55230</td>\n",
       "    </tr>\n",
       "    <tr>\n",
       "      <th>2</th>\n",
       "      <td>0.217391</td>\n",
       "      <td>0.458434</td>\n",
       "      <td>0.855475</td>\n",
       "      <td>0</td>\n",
       "      <td>1</td>\n",
       "      <td>1</td>\n",
       "      <td>0</td>\n",
       "      <td>4449.46200</td>\n",
       "    </tr>\n",
       "    <tr>\n",
       "      <th>3</th>\n",
       "      <td>0.326087</td>\n",
       "      <td>0.181464</td>\n",
       "      <td>0.000000</td>\n",
       "      <td>0</td>\n",
       "      <td>1</td>\n",
       "      <td>1</td>\n",
       "      <td>0</td>\n",
       "      <td>21984.47061</td>\n",
       "    </tr>\n",
       "    <tr>\n",
       "      <th>4</th>\n",
       "      <td>0.304348</td>\n",
       "      <td>0.347592</td>\n",
       "      <td>0.000000</td>\n",
       "      <td>0</td>\n",
       "      <td>1</td>\n",
       "      <td>1</td>\n",
       "      <td>0</td>\n",
       "      <td>3866.85520</td>\n",
       "    </tr>\n",
       "    <tr>\n",
       "      <th>...</th>\n",
       "      <td>...</td>\n",
       "      <td>...</td>\n",
       "      <td>...</td>\n",
       "      <td>...</td>\n",
       "      <td>...</td>\n",
       "      <td>...</td>\n",
       "      <td>...</td>\n",
       "      <td>...</td>\n",
       "    </tr>\n",
       "    <tr>\n",
       "      <th>1333</th>\n",
       "      <td>0.695652</td>\n",
       "      <td>0.403820</td>\n",
       "      <td>0.855475</td>\n",
       "      <td>0</td>\n",
       "      <td>1</td>\n",
       "      <td>1</td>\n",
       "      <td>0</td>\n",
       "      <td>10600.54830</td>\n",
       "    </tr>\n",
       "    <tr>\n",
       "      <th>1334</th>\n",
       "      <td>0.000000</td>\n",
       "      <td>0.429379</td>\n",
       "      <td>0.000000</td>\n",
       "      <td>1</td>\n",
       "      <td>0</td>\n",
       "      <td>1</td>\n",
       "      <td>0</td>\n",
       "      <td>2205.98080</td>\n",
       "    </tr>\n",
       "    <tr>\n",
       "      <th>1335</th>\n",
       "      <td>0.000000</td>\n",
       "      <td>0.562012</td>\n",
       "      <td>0.000000</td>\n",
       "      <td>1</td>\n",
       "      <td>0</td>\n",
       "      <td>1</td>\n",
       "      <td>0</td>\n",
       "      <td>1629.83350</td>\n",
       "    </tr>\n",
       "    <tr>\n",
       "      <th>1336</th>\n",
       "      <td>0.065217</td>\n",
       "      <td>0.264730</td>\n",
       "      <td>0.000000</td>\n",
       "      <td>1</td>\n",
       "      <td>0</td>\n",
       "      <td>1</td>\n",
       "      <td>0</td>\n",
       "      <td>2007.94500</td>\n",
       "    </tr>\n",
       "    <tr>\n",
       "      <th>1337</th>\n",
       "      <td>0.934783</td>\n",
       "      <td>0.352704</td>\n",
       "      <td>0.000000</td>\n",
       "      <td>1</td>\n",
       "      <td>0</td>\n",
       "      <td>0</td>\n",
       "      <td>1</td>\n",
       "      <td>29141.36030</td>\n",
       "    </tr>\n",
       "  </tbody>\n",
       "</table>\n",
       "<p>1338 rows × 8 columns</p>\n",
       "</div>"
      ],
      "text/plain": [
       "           age       bmi  children  sex_female  sex_male  smoker_no  \\\n",
       "0     0.021739  0.321227  0.000000           1         0          0   \n",
       "1     0.000000  0.479150  0.559508           0         1          1   \n",
       "2     0.217391  0.458434  0.855475           0         1          1   \n",
       "3     0.326087  0.181464  0.000000           0         1          1   \n",
       "4     0.304348  0.347592  0.000000           0         1          1   \n",
       "...        ...       ...       ...         ...       ...        ...   \n",
       "1333  0.695652  0.403820  0.855475           0         1          1   \n",
       "1334  0.000000  0.429379  0.000000           1         0          1   \n",
       "1335  0.000000  0.562012  0.000000           1         0          1   \n",
       "1336  0.065217  0.264730  0.000000           1         0          1   \n",
       "1337  0.934783  0.352704  0.000000           1         0          0   \n",
       "\n",
       "      smoker_yes       Target  \n",
       "0              1  16884.92400  \n",
       "1              0   1725.55230  \n",
       "2              0   4449.46200  \n",
       "3              0  21984.47061  \n",
       "4              0   3866.85520  \n",
       "...          ...          ...  \n",
       "1333           0  10600.54830  \n",
       "1334           0   2205.98080  \n",
       "1335           0   1629.83350  \n",
       "1336           0   2007.94500  \n",
       "1337           1  29141.36030  \n",
       "\n",
       "[1338 rows x 8 columns]"
      ]
     },
     "execution_count": 44,
     "metadata": {},
     "output_type": "execute_result"
    }
   ],
   "source": [
    "### Create the column - Target using charges\n",
    "\n",
    "target_data = encoded_dataset['charges']\n",
    "encoded_dataset['Target'] = target_data\n",
    "\n",
    "### Dropping the column - charges\n",
    "\n",
    "encoded_dataset.drop(['charges'], axis = 1, inplace = True)\n",
    "encoded_dataset"
   ]
  },
  {
   "cell_type": "markdown",
   "id": "db41b4e7",
   "metadata": {
    "papermill": {
     "duration": 0.046621,
     "end_time": "2022-12-23T21:33:48.122637",
     "exception": false,
     "start_time": "2022-12-23T21:33:48.076016",
     "status": "completed"
    },
    "tags": []
   },
   "source": [
    "##### 4.4 Feature Selection"
   ]
  },
  {
   "cell_type": "markdown",
   "id": "5c56c640",
   "metadata": {
    "papermill": {
     "duration": 0.04594,
     "end_time": "2022-12-23T21:33:48.215935",
     "exception": false,
     "start_time": "2022-12-23T21:33:48.169995",
     "status": "completed"
    },
    "tags": []
   },
   "source": [
    "Feature selection is the process of reducing the number of input variables when developing a predictive model. It is desirable to reduce the number of input variables to both reduce the computational cost of modeling and, in some cases, to improve the performance of the model."
   ]
  },
  {
   "cell_type": "markdown",
   "id": "2021e11f",
   "metadata": {
    "papermill": {
     "duration": 0.047058,
     "end_time": "2022-12-23T21:33:48.310187",
     "exception": false,
     "start_time": "2022-12-23T21:33:48.263129",
     "status": "completed"
    },
    "tags": []
   },
   "source": [
    "##### 4.4.1 Plotting the correlation matrix for the numerical columns"
   ]
  },
  {
   "cell_type": "code",
   "execution_count": 45,
   "id": "1a2d0f73",
   "metadata": {
    "execution": {
     "iopub.execute_input": "2022-12-23T21:33:48.409298Z",
     "iopub.status.busy": "2022-12-23T21:33:48.408286Z",
     "iopub.status.idle": "2022-12-23T21:33:48.425445Z",
     "shell.execute_reply": "2022-12-23T21:33:48.424492Z"
    },
    "papermill": {
     "duration": 0.069115,
     "end_time": "2022-12-23T21:33:48.427847",
     "exception": false,
     "start_time": "2022-12-23T21:33:48.358732",
     "status": "completed"
    },
    "tags": []
   },
   "outputs": [
    {
     "data": {
      "text/html": [
       "<div>\n",
       "<style scoped>\n",
       "    .dataframe tbody tr th:only-of-type {\n",
       "        vertical-align: middle;\n",
       "    }\n",
       "\n",
       "    .dataframe tbody tr th {\n",
       "        vertical-align: top;\n",
       "    }\n",
       "\n",
       "    .dataframe thead th {\n",
       "        text-align: right;\n",
       "    }\n",
       "</style>\n",
       "<table border=\"1\" class=\"dataframe\">\n",
       "  <thead>\n",
       "    <tr style=\"text-align: right;\">\n",
       "      <th></th>\n",
       "      <th>age</th>\n",
       "      <th>bmi</th>\n",
       "      <th>children</th>\n",
       "    </tr>\n",
       "  </thead>\n",
       "  <tbody>\n",
       "    <tr>\n",
       "      <th>0</th>\n",
       "      <td>0.021739</td>\n",
       "      <td>0.321227</td>\n",
       "      <td>0.000000</td>\n",
       "    </tr>\n",
       "    <tr>\n",
       "      <th>1</th>\n",
       "      <td>0.000000</td>\n",
       "      <td>0.479150</td>\n",
       "      <td>0.559508</td>\n",
       "    </tr>\n",
       "    <tr>\n",
       "      <th>2</th>\n",
       "      <td>0.217391</td>\n",
       "      <td>0.458434</td>\n",
       "      <td>0.855475</td>\n",
       "    </tr>\n",
       "    <tr>\n",
       "      <th>3</th>\n",
       "      <td>0.326087</td>\n",
       "      <td>0.181464</td>\n",
       "      <td>0.000000</td>\n",
       "    </tr>\n",
       "    <tr>\n",
       "      <th>4</th>\n",
       "      <td>0.304348</td>\n",
       "      <td>0.347592</td>\n",
       "      <td>0.000000</td>\n",
       "    </tr>\n",
       "    <tr>\n",
       "      <th>...</th>\n",
       "      <td>...</td>\n",
       "      <td>...</td>\n",
       "      <td>...</td>\n",
       "    </tr>\n",
       "    <tr>\n",
       "      <th>1333</th>\n",
       "      <td>0.695652</td>\n",
       "      <td>0.403820</td>\n",
       "      <td>0.855475</td>\n",
       "    </tr>\n",
       "    <tr>\n",
       "      <th>1334</th>\n",
       "      <td>0.000000</td>\n",
       "      <td>0.429379</td>\n",
       "      <td>0.000000</td>\n",
       "    </tr>\n",
       "    <tr>\n",
       "      <th>1335</th>\n",
       "      <td>0.000000</td>\n",
       "      <td>0.562012</td>\n",
       "      <td>0.000000</td>\n",
       "    </tr>\n",
       "    <tr>\n",
       "      <th>1336</th>\n",
       "      <td>0.065217</td>\n",
       "      <td>0.264730</td>\n",
       "      <td>0.000000</td>\n",
       "    </tr>\n",
       "    <tr>\n",
       "      <th>1337</th>\n",
       "      <td>0.934783</td>\n",
       "      <td>0.352704</td>\n",
       "      <td>0.000000</td>\n",
       "    </tr>\n",
       "  </tbody>\n",
       "</table>\n",
       "<p>1338 rows × 3 columns</p>\n",
       "</div>"
      ],
      "text/plain": [
       "           age       bmi  children\n",
       "0     0.021739  0.321227  0.000000\n",
       "1     0.000000  0.479150  0.559508\n",
       "2     0.217391  0.458434  0.855475\n",
       "3     0.326087  0.181464  0.000000\n",
       "4     0.304348  0.347592  0.000000\n",
       "...        ...       ...       ...\n",
       "1333  0.695652  0.403820  0.855475\n",
       "1334  0.000000  0.429379  0.000000\n",
       "1335  0.000000  0.562012  0.000000\n",
       "1336  0.065217  0.264730  0.000000\n",
       "1337  0.934783  0.352704  0.000000\n",
       "\n",
       "[1338 rows x 3 columns]"
      ]
     },
     "execution_count": 45,
     "metadata": {},
     "output_type": "execute_result"
    }
   ],
   "source": [
    "### Creating a filter_dataset\n",
    "\n",
    "filter_dataset = encoded_dataset[['age', 'bmi', 'children']]\n",
    "filter_dataset"
   ]
  },
  {
   "cell_type": "code",
   "execution_count": 46,
   "id": "9dae96e2",
   "metadata": {
    "execution": {
     "iopub.execute_input": "2022-12-23T21:33:48.525372Z",
     "iopub.status.busy": "2022-12-23T21:33:48.524915Z",
     "iopub.status.idle": "2022-12-23T21:33:48.880861Z",
     "shell.execute_reply": "2022-12-23T21:33:48.879288Z"
    },
    "papermill": {
     "duration": 0.408746,
     "end_time": "2022-12-23T21:33:48.883757",
     "exception": false,
     "start_time": "2022-12-23T21:33:48.475011",
     "status": "completed"
    },
    "tags": []
   },
   "outputs": [
    {
     "data": {
      "text/plain": [
       "Text(0.5, 1.0, 'Correlation Heatmap')"
      ]
     },
     "execution_count": 46,
     "metadata": {},
     "output_type": "execute_result"
    },
    {
     "data": {
      "image/png": "[encoded data removed]",
      "text/plain": [
       "<Figure size 216x216 with 2 Axes>"
      ]
     },
     "metadata": {
      "needs_background": "light"
     },
     "output_type": "display_data"
    }
   ],
   "source": [
    "### Plotting the correlation between various columns of the filter_dataset\n",
    "\n",
    "plt.figure(figsize = (3, 3))\n",
    "heatmap = sns.heatmap(filter_dataset.corr(), vmin = -1, vmax = 1, annot = True)\n",
    "heatmap.set_title('Correlation Heatmap', fontdict = {'fontsize' : 12}, pad = 12)"
   ]
  },
  {
   "cell_type": "markdown",
   "id": "f6b47215",
   "metadata": {
    "papermill": {
     "duration": 0.04732,
     "end_time": "2022-12-23T21:33:48.978724",
     "exception": false,
     "start_time": "2022-12-23T21:33:48.931404",
     "status": "completed"
    },
    "tags": []
   },
   "source": [
    "From the above correlation matrix, we can see that there are a no strong correlations between the data. "
   ]
  },
  {
   "cell_type": "markdown",
   "id": "21eba189",
   "metadata": {
    "papermill": {
     "duration": 0.047787,
     "end_time": "2022-12-23T21:33:49.404236",
     "exception": false,
     "start_time": "2022-12-23T21:33:49.356449",
     "status": "completed"
    },
    "tags": []
   },
   "source": [
    "# 5. Modelling"
   ]
  },
  {
   "cell_type": "markdown",
   "id": "8a384c5c",
   "metadata": {
    "papermill": {
     "duration": 0.048152,
     "end_time": "2022-12-23T21:33:49.501070",
     "exception": false,
     "start_time": "2022-12-23T21:33:49.452918",
     "status": "completed"
    },
    "tags": []
   },
   "source": [
    "Scikit-learn is one of the most popular libraries for machine learning in Python and that is what we will use in the modelling part of this project.\n",
    "\n",
    "Since Health Insurance Price Prediction is a regression problem, we will need to use regression models, also known as regressors, to train on our model to make predictions. I highly recommend checking out the scikit-learn documentation for more information on the different machine learning models available in their library. I have chosen the following regression models for the job:\n",
    "\n",
    "1. Multi Linear Regression\n",
    "2. Decision Tree regression\n",
    "3. Random Forest Regression\n",
    "4. Stacking Regression\n",
    "5. XGBoost Regression\n",
    "\n",
    "In this section of the notebook, I will fit the models to the training set as outlined above and evaluate their Root Mean Squared Error (RMSE), R-squared at making predictions. Then, we will select the best model based on those values."
   ]
  },
  {
   "cell_type": "markdown",
   "id": "1be1ecae",
   "metadata": {
    "papermill": {
     "duration": 0.049612,
     "end_time": "2022-12-23T21:33:49.599267",
     "exception": false,
     "start_time": "2022-12-23T21:33:49.549655",
     "status": "completed"
    },
    "tags": []
   },
   "source": [
    "#### 5.1 Splitting the dataset into Training and Test sets"
   ]
  },
  {
   "cell_type": "markdown",
   "id": "369173dc",
   "metadata": {
    "papermill": {
     "duration": 0.076029,
     "end_time": "2022-12-23T21:33:49.739331",
     "exception": false,
     "start_time": "2022-12-23T21:33:49.663302",
     "status": "completed"
    },
    "tags": []
   },
   "source": [
    "Here, we will split the training data into X_train, X_test, Y_train, and Y_test so that they can be fed to the machine learning models that are used in the next section. Then the model with the best performance will be used to predict the result on the given test dataset."
   ]
  },
  {
   "cell_type": "code",
   "execution_count": 47,
   "id": "ee9b264a",
   "metadata": {
    "execution": {
     "iopub.execute_input": "2022-12-23T21:33:49.842632Z",
     "iopub.status.busy": "2022-12-23T21:33:49.841843Z",
     "iopub.status.idle": "2022-12-23T21:33:49.849669Z",
     "shell.execute_reply": "2022-12-23T21:33:49.848419Z"
    },
    "papermill": {
     "duration": 0.062228,
     "end_time": "2022-12-23T21:33:49.852619",
     "exception": false,
     "start_time": "2022-12-23T21:33:49.790391",
     "status": "completed"
    },
    "tags": []
   },
   "outputs": [],
   "source": [
    "### Splitting the dataset to the matrices X and Y\n",
    "\n",
    "X = encoded_dataset.iloc[:, : -1].values\n",
    "Y = encoded_dataset.iloc[:, -1].values\n"
   ]
  },
  {
   "cell_type": "code",
   "execution_count": 48,
   "id": "9c07ee06",
   "metadata": {
    "execution": {
     "iopub.execute_input": "2022-12-23T21:33:49.950097Z",
     "iopub.status.busy": "2022-12-23T21:33:49.949331Z",
     "iopub.status.idle": "2022-12-23T21:33:49.958134Z",
     "shell.execute_reply": "2022-12-23T21:33:49.956667Z"
    },
    "papermill": {
     "duration": 0.060719,
     "end_time": "2022-12-23T21:33:49.960761",
     "exception": false,
     "start_time": "2022-12-23T21:33:49.900042",
     "status": "completed"
    },
    "tags": []
   },
   "outputs": [
    {
     "data": {
      "text/plain": [
       "array([[0.02173913, 0.3212268 , 0.        , ..., 0.        , 0.        ,\n",
       "        1.        ],\n",
       "       [0.        , 0.47914985, 0.55950799, ..., 1.        , 1.        ,\n",
       "        0.        ],\n",
       "       [0.2173913 , 0.45843422, 0.85547528, ..., 1.        , 1.        ,\n",
       "        0.        ],\n",
       "       ...,\n",
       "       [0.        , 0.56201238, 0.        , ..., 0.        , 1.        ,\n",
       "        0.        ],\n",
       "       [0.06521739, 0.26472962, 0.        , ..., 0.        , 1.        ,\n",
       "        0.        ],\n",
       "       [0.93478261, 0.35270379, 0.        , ..., 0.        , 0.        ,\n",
       "        1.        ]])"
      ]
     },
     "execution_count": 48,
     "metadata": {},
     "output_type": "execute_result"
    }
   ],
   "source": [
    "### Looking at the new training data - X\n",
    "\n",
    "X"
   ]
  },
  {
   "cell_type": "code",
   "execution_count": 49,
   "id": "d4fa338a",
   "metadata": {
    "execution": {
     "iopub.execute_input": "2022-12-23T21:33:50.061468Z",
     "iopub.status.busy": "2022-12-23T21:33:50.060651Z",
     "iopub.status.idle": "2022-12-23T21:33:50.069817Z",
     "shell.execute_reply": "2022-12-23T21:33:50.068299Z"
    },
    "papermill": {
     "duration": 0.062062,
     "end_time": "2022-12-23T21:33:50.072708",
     "exception": false,
     "start_time": "2022-12-23T21:33:50.010646",
     "status": "completed"
    },
    "tags": []
   },
   "outputs": [
    {
     "data": {
      "text/plain": [
       "array([16884.924 ,  1725.5523,  4449.462 , ...,  1629.8335,  2007.945 ,\n",
       "       29141.3603])"
      ]
     },
     "execution_count": 49,
     "metadata": {},
     "output_type": "execute_result"
    }
   ],
   "source": [
    "### Looking at the new test data - Y\n",
    "\n",
    "Y"
   ]
  },
  {
   "cell_type": "code",
   "execution_count": 50,
   "id": "ffb5559b",
   "metadata": {
    "execution": {
     "iopub.execute_input": "2022-12-23T21:33:50.172344Z",
     "iopub.status.busy": "2022-12-23T21:33:50.171534Z",
     "iopub.status.idle": "2022-12-23T21:33:50.178661Z",
     "shell.execute_reply": "2022-12-23T21:33:50.177545Z"
    },
    "papermill": {
     "duration": 0.060386,
     "end_time": "2022-12-23T21:33:50.181539",
     "exception": false,
     "start_time": "2022-12-23T21:33:50.121153",
     "status": "completed"
    },
    "tags": []
   },
   "outputs": [],
   "source": [
    "### Dividing the dataset into train and test in the ratio of 80 : 20\n",
    "\n",
    "X_train, X_test, Y_train, Y_test = train_test_split(X, Y, test_size = 0.2, random_state = 27, shuffle = True)"
   ]
  },
  {
   "cell_type": "markdown",
   "id": "744a1ca4",
   "metadata": {
    "papermill": {
     "duration": 0.048178,
     "end_time": "2022-12-23T21:33:50.278430",
     "exception": false,
     "start_time": "2022-12-23T21:33:50.230252",
     "status": "completed"
    },
    "tags": []
   },
   "source": [
    "Now, we apply regressors using the above data."
   ]
  },
  {
   "cell_type": "markdown",
   "id": "5536deeb",
   "metadata": {
    "papermill": {
     "duration": 0.047573,
     "end_time": "2022-12-23T21:33:50.374850",
     "exception": false,
     "start_time": "2022-12-23T21:33:50.327277",
     "status": "completed"
    },
    "tags": []
   },
   "source": [
    "#### 5.2 Fit the model"
   ]
  },
  {
   "cell_type": "markdown",
   "id": "01c2822a",
   "metadata": {
    "papermill": {
     "duration": 0.048458,
     "end_time": "2022-12-23T21:33:50.471451",
     "exception": false,
     "start_time": "2022-12-23T21:33:50.422993",
     "status": "completed"
    },
    "tags": []
   },
   "source": [
    "In this section, we use various machine learning models to predict the results for our test data (X_test). We will store the model and its corresponding Root Mean Squared Error and R-squared so that we can tabulate them later for choosing the best model."
   ]
  },
  {
   "cell_type": "code",
   "execution_count": 51,
   "id": "426b8ecf",
   "metadata": {
    "execution": {
     "iopub.execute_input": "2022-12-23T21:33:50.573895Z",
     "iopub.status.busy": "2022-12-23T21:33:50.572909Z",
     "iopub.status.idle": "2022-12-23T21:33:50.578862Z",
     "shell.execute_reply": "2022-12-23T21:33:50.577822Z"
    },
    "papermill": {
     "duration": 0.061745,
     "end_time": "2022-12-23T21:33:50.581745",
     "exception": false,
     "start_time": "2022-12-23T21:33:50.520000",
     "status": "completed"
    },
    "tags": []
   },
   "outputs": [],
   "source": [
    "### Dictionary to store model and its rmse\n",
    "\n",
    "model_rmse = OrderedDict()"
   ]
  },
  {
   "cell_type": "code",
   "execution_count": 52,
   "id": "086c7b48",
   "metadata": {
    "execution": {
     "iopub.execute_input": "2022-12-23T21:33:50.680422Z",
     "iopub.status.busy": "2022-12-23T21:33:50.679931Z",
     "iopub.status.idle": "2022-12-23T21:33:50.686113Z",
     "shell.execute_reply": "2022-12-23T21:33:50.684409Z"
    },
    "papermill": {
     "duration": 0.058732,
     "end_time": "2022-12-23T21:33:50.689279",
     "exception": false,
     "start_time": "2022-12-23T21:33:50.630547",
     "status": "completed"
    },
    "tags": []
   },
   "outputs": [],
   "source": [
    "### Dictionary to store model and its r-squared\n",
    "\n",
    "model_r2 = OrderedDict()"
   ]
  },
  {
   "cell_type": "markdown",
   "id": "369a5ed9",
   "metadata": {
    "papermill": {
     "duration": 0.050071,
     "end_time": "2022-12-23T21:33:50.788566",
     "exception": false,
     "start_time": "2022-12-23T21:33:50.738495",
     "status": "completed"
    },
    "tags": []
   },
   "source": [
    "##### 5.2.1 Applying Multi Linear Regression"
   ]
  },
  {
   "cell_type": "code",
   "execution_count": 53,
   "id": "9162cdc8",
   "metadata": {
    "execution": {
     "iopub.execute_input": "2022-12-23T21:33:50.890713Z",
     "iopub.status.busy": "2022-12-23T21:33:50.890145Z",
     "iopub.status.idle": "2022-12-23T21:33:50.913335Z",
     "shell.execute_reply": "2022-12-23T21:33:50.912285Z"
    },
    "papermill": {
     "duration": 0.07672,
     "end_time": "2022-12-23T21:33:50.915838",
     "exception": false,
     "start_time": "2022-12-23T21:33:50.839118",
     "status": "completed"
    },
    "tags": []
   },
   "outputs": [
    {
     "data": {
      "text/plain": [
       "LinearRegression()"
      ]
     },
     "execution_count": 53,
     "metadata": {},
     "output_type": "execute_result"
    }
   ],
   "source": [
    "### Training the Multi Linear Regression model on the Training set\n",
    "\n",
    "linear_regressor = LinearRegression()\n",
    "linear_regressor.fit(X_train, Y_train)"
   ]
  },
  {
   "cell_type": "code",
   "execution_count": 54,
   "id": "e6081840",
   "metadata": {
    "execution": {
     "iopub.execute_input": "2022-12-23T21:33:51.016313Z",
     "iopub.status.busy": "2022-12-23T21:33:51.015846Z",
     "iopub.status.idle": "2022-12-23T21:33:51.022711Z",
     "shell.execute_reply": "2022-12-23T21:33:51.021667Z"
    },
    "papermill": {
     "duration": 0.06007,
     "end_time": "2022-12-23T21:33:51.025308",
     "exception": false,
     "start_time": "2022-12-23T21:33:50.965238",
     "status": "completed"
    },
    "tags": []
   },
   "outputs": [],
   "source": [
    "### Predicting the Test set results\n",
    "\n",
    "Y_pred = linear_regressor.predict(X_test)"
   ]
  },
  {
   "cell_type": "code",
   "execution_count": 55,
   "id": "d007cff8",
   "metadata": {
    "execution": {
     "iopub.execute_input": "2022-12-23T21:33:51.128174Z",
     "iopub.status.busy": "2022-12-23T21:33:51.127325Z",
     "iopub.status.idle": "2022-12-23T21:33:51.138146Z",
     "shell.execute_reply": "2022-12-23T21:33:51.136266Z"
    },
    "papermill": {
     "duration": 0.066737,
     "end_time": "2022-12-23T21:33:51.140873",
     "exception": false,
     "start_time": "2022-12-23T21:33:51.074136",
     "status": "completed"
    },
    "tags": []
   },
   "outputs": [
    {
     "name": "stdout",
     "output_type": "stream",
     "text": [
      "Root Mean Squared Error of the model is : 6310.64\n",
      "R-squared value of the model is : 0.729\n"
     ]
    }
   ],
   "source": [
    "### Calculating RMSE and R-squared for the model\n",
    "\n",
    "mse = round(mean_squared_error(Y_test, Y_pred), 3)\n",
    "rmse = round(sqrt(mse), 3)\n",
    "\n",
    "r2_value = round(r2_score(Y_test, Y_pred), 3)\n",
    "\n",
    "model_rmse['Multi Linear Regression'] = rmse\n",
    "model_r2['Multi Linear Regression'] = r2_value\n",
    "\n",
    "print('Root Mean Squared Error of the model is : {}'.format(rmse))\n",
    "print('R-squared value of the model is : {}'.format(r2_value))"
   ]
  },
  {
   "cell_type": "markdown",
   "id": "bac61147",
   "metadata": {
    "papermill": {
     "duration": 0.049971,
     "end_time": "2022-12-23T21:33:53.297182",
     "exception": false,
     "start_time": "2022-12-23T21:33:53.247211",
     "status": "completed"
    },
    "tags": []
   },
   "source": [
    "##### 5.2.5 Applying Decision Tree Regression"
   ]
  },
  {
   "cell_type": "code",
   "execution_count": 56,
   "id": "6153275d",
   "metadata": {
    "execution": {
     "iopub.execute_input": "2022-12-23T21:33:53.400465Z",
     "iopub.status.busy": "2022-12-23T21:33:53.399393Z",
     "iopub.status.idle": "2022-12-23T21:33:53.411440Z",
     "shell.execute_reply": "2022-12-23T21:33:53.410405Z"
    },
    "papermill": {
     "duration": 0.06717,
     "end_time": "2022-12-23T21:33:53.413844",
     "exception": false,
     "start_time": "2022-12-23T21:33:53.346674",
     "status": "completed"
    },
    "tags": []
   },
   "outputs": [
    {
     "data": {
      "text/plain": [
       "DecisionTreeRegressor()"
      ]
     },
     "execution_count": 56,
     "metadata": {},
     "output_type": "execute_result"
    }
   ],
   "source": [
    "### Training the Decision Tree Regression model on the Training set\n",
    "from sklearn.tree import plot_tree\n",
    "\n",
    "decision_tree_regressor = DecisionTreeRegressor()\n",
    "decision_tree_regressor.fit(X_train, Y_train)\n"
   ]
  },
  {
   "cell_type": "code",
   "execution_count": 57,
   "id": "d5275ae1",
   "metadata": {
    "execution": {
     "iopub.execute_input": "2022-12-23T21:33:53.515301Z",
     "iopub.status.busy": "2022-12-23T21:33:53.514760Z",
     "iopub.status.idle": "2022-12-23T21:33:53.521036Z",
     "shell.execute_reply": "2022-12-23T21:33:53.519867Z"
    },
    "papermill": {
     "duration": 0.060439,
     "end_time": "2022-12-23T21:33:53.523550",
     "exception": false,
     "start_time": "2022-12-23T21:33:53.463111",
     "status": "completed"
    },
    "tags": []
   },
   "outputs": [],
   "source": [
    "### Predicting the Test set results\n",
    "\n",
    "Y_pred = decision_tree_regressor.predict(X_test)"
   ]
  },
  {
   "cell_type": "code",
   "execution_count": 58,
   "id": "1ac9dff3",
   "metadata": {
    "execution": {
     "iopub.execute_input": "2022-12-23T21:33:53.627144Z",
     "iopub.status.busy": "2022-12-23T21:33:53.626585Z",
     "iopub.status.idle": "2022-12-23T21:33:53.637510Z",
     "shell.execute_reply": "2022-12-23T21:33:53.635830Z"
    },
    "papermill": {
     "duration": 0.066244,
     "end_time": "2022-12-23T21:33:53.640726",
     "exception": false,
     "start_time": "2022-12-23T21:33:53.574482",
     "status": "completed"
    },
    "tags": []
   },
   "outputs": [
    {
     "name": "stdout",
     "output_type": "stream",
     "text": [
      "Root Mean Squared Error of the model is : 7483.828\n",
      "R-squared value of the model is : 0.62\n"
     ]
    }
   ],
   "source": [
    "### Calculating RMSE and R-squared for the model\n",
    "\n",
    "mse = round(mean_squared_error(Y_test, Y_pred), 3)\n",
    "rmse = round(sqrt(mse), 3)\n",
    "\n",
    "r2_value = round(r2_score(Y_test, Y_pred), 3)\n",
    "\n",
    "model_rmse['Decision Tree Regression'] = rmse\n",
    "model_r2['Decision Tree Regression'] = r2_value\n",
    "\n",
    "print('Root Mean Squared Error of the model is : {}'.format(rmse))\n",
    "print('R-squared value of the model is : {}'.format(r2_value))"
   ]
  },
  {
   "cell_type": "markdown",
   "id": "f2da2148",
   "metadata": {
    "papermill": {
     "duration": 0.050196,
     "end_time": "2022-12-23T21:33:54.738429",
     "exception": false,
     "start_time": "2022-12-23T21:33:54.688233",
     "status": "completed"
    },
    "tags": []
   },
   "source": [
    "##### 5.2.8 Applying Random Forest Regression (50 trees)"
   ]
  },
  {
   "cell_type": "code",
   "execution_count": 59,
   "id": "07046809",
   "metadata": {
    "execution": {
     "iopub.execute_input": "2022-12-23T21:33:54.840467Z",
     "iopub.status.busy": "2022-12-23T21:33:54.839384Z",
     "iopub.status.idle": "2022-12-23T21:33:55.005324Z",
     "shell.execute_reply": "2022-12-23T21:33:55.003866Z"
    },
    "papermill": {
     "duration": 0.21975,
     "end_time": "2022-12-23T21:33:55.008377",
     "exception": false,
     "start_time": "2022-12-23T21:33:54.788627",
     "status": "completed"
    },
    "tags": []
   },
   "outputs": [
    {
     "data": {
      "text/plain": [
       "RandomForestRegressor(n_estimators=50, random_state=27)"
      ]
     },
     "execution_count": 59,
     "metadata": {},
     "output_type": "execute_result"
    }
   ],
   "source": [
    "### Training the Random Forest Regression model on the Training set\n",
    "\n",
    "random_forest_regressor = RandomForestRegressor(n_estimators = 50, random_state = 27)\n",
    "random_forest_regressor.fit(X_train, Y_train)"
   ]
  },
  {
   "cell_type": "code",
   "execution_count": 60,
   "id": "3f969922",
   "metadata": {
    "execution": {
     "iopub.execute_input": "2022-12-23T21:33:55.110599Z",
     "iopub.status.busy": "2022-12-23T21:33:55.110065Z",
     "iopub.status.idle": "2022-12-23T21:33:55.127977Z",
     "shell.execute_reply": "2022-12-23T21:33:55.126391Z"
    },
    "papermill": {
     "duration": 0.072785,
     "end_time": "2022-12-23T21:33:55.131138",
     "exception": false,
     "start_time": "2022-12-23T21:33:55.058353",
     "status": "completed"
    },
    "tags": []
   },
   "outputs": [],
   "source": [
    "### Predicting the Test set results\n",
    "\n",
    "Y_pred = random_forest_regressor.predict(X_test)"
   ]
  },
  {
   "cell_type": "code",
   "execution_count": 61,
   "id": "988b2f5d",
   "metadata": {
    "execution": {
     "iopub.execute_input": "2022-12-23T21:33:55.234847Z",
     "iopub.status.busy": "2022-12-23T21:33:55.234357Z",
     "iopub.status.idle": "2022-12-23T21:33:55.244536Z",
     "shell.execute_reply": "2022-12-23T21:33:55.242945Z"
    },
    "papermill": {
     "duration": 0.065515,
     "end_time": "2022-12-23T21:33:55.247131",
     "exception": false,
     "start_time": "2022-12-23T21:33:55.181616",
     "status": "completed"
    },
    "tags": []
   },
   "outputs": [
    {
     "name": "stdout",
     "output_type": "stream",
     "text": [
      "Root Mean Squared Error of the model is : 5627.492\n",
      "R-squared value of the model is : 0.785\n"
     ]
    }
   ],
   "source": [
    "### Calculating RMSE and R-squared for the model\n",
    "\n",
    "mse = round(mean_squared_error(Y_test, Y_pred), 3)\n",
    "rmse = round(sqrt(mse), 3)\n",
    "\n",
    "r2_value = round(r2_score(Y_test, Y_pred), 3)\n",
    "\n",
    "model_rmse['Random Forest Regression (50 trees)'] = rmse\n",
    "model_r2['Random Forest Regression (50 trees)'] = r2_value\n",
    "\n",
    "print('Root Mean Squared Error of the model is : {}'.format(rmse))\n",
    "print('R-squared value of the model is : {}'.format(r2_value))"
   ]
  },
  {
   "cell_type": "markdown",
   "id": "db5ecbc9",
   "metadata": {
    "papermill": {
     "duration": 0.049677,
     "end_time": "2022-12-23T21:33:55.347648",
     "exception": false,
     "start_time": "2022-12-23T21:33:55.297971",
     "status": "completed"
    },
    "tags": []
   },
   "source": [
    "##### 5.2.9 Applying Random Forest Regression (100 trees)"
   ]
  },
  {
   "cell_type": "code",
   "execution_count": 62,
   "id": "f98c0a13",
   "metadata": {
    "execution": {
     "iopub.execute_input": "2022-12-23T21:33:55.453505Z",
     "iopub.status.busy": "2022-12-23T21:33:55.452965Z",
     "iopub.status.idle": "2022-12-23T21:33:55.792682Z",
     "shell.execute_reply": "2022-12-23T21:33:55.791279Z"
    },
    "papermill": {
     "duration": 0.396315,
     "end_time": "2022-12-23T21:33:55.795906",
     "exception": false,
     "start_time": "2022-12-23T21:33:55.399591",
     "status": "completed"
    },
    "tags": []
   },
   "outputs": [
    {
     "data": {
      "text/plain": [
       "RandomForestRegressor(random_state=27)"
      ]
     },
     "execution_count": 62,
     "metadata": {},
     "output_type": "execute_result"
    }
   ],
   "source": [
    "### Training the Random Forest Regression model on the Training set\n",
    "\n",
    "random_forest_regressor = RandomForestRegressor(n_estimators = 100, random_state = 27)\n",
    "random_forest_regressor.fit(X_train, Y_train)"
   ]
  },
  {
   "cell_type": "code",
   "execution_count": 63,
   "id": "d31ad02b",
   "metadata": {
    "execution": {
     "iopub.execute_input": "2022-12-23T21:33:55.898483Z",
     "iopub.status.busy": "2022-12-23T21:33:55.897700Z",
     "iopub.status.idle": "2022-12-23T21:33:55.924385Z",
     "shell.execute_reply": "2022-12-23T21:33:55.923309Z"
    },
    "papermill": {
     "duration": 0.081163,
     "end_time": "2022-12-23T21:33:55.927449",
     "exception": false,
     "start_time": "2022-12-23T21:33:55.846286",
     "status": "completed"
    },
    "tags": []
   },
   "outputs": [],
   "source": [
    "### Predicting the Test set results\n",
    "\n",
    "Y_pred = random_forest_regressor.predict(X_test)"
   ]
  },
  {
   "cell_type": "code",
   "execution_count": 64,
   "id": "3a20d9dc",
   "metadata": {
    "execution": {
     "iopub.execute_input": "2022-12-23T21:33:56.028274Z",
     "iopub.status.busy": "2022-12-23T21:33:56.027488Z",
     "iopub.status.idle": "2022-12-23T21:33:56.037862Z",
     "shell.execute_reply": "2022-12-23T21:33:56.036189Z"
    },
    "papermill": {
     "duration": 0.064268,
     "end_time": "2022-12-23T21:33:56.040653",
     "exception": false,
     "start_time": "2022-12-23T21:33:55.976385",
     "status": "completed"
    },
    "tags": []
   },
   "outputs": [
    {
     "name": "stdout",
     "output_type": "stream",
     "text": [
      "Root Mean Squared Error of the model is : 5568.514\n",
      "R-squared value of the model is : 0.789\n"
     ]
    }
   ],
   "source": [
    "### Calculating RMSE and R-squared for the model\n",
    "\n",
    "mse = round(mean_squared_error(Y_test, Y_pred), 3)\n",
    "rmse = round(sqrt(mse), 3)\n",
    "\n",
    "r2_value = round(r2_score(Y_test, Y_pred), 3)\n",
    "\n",
    "model_rmse['Random Forest Regression (100 trees)'] = rmse\n",
    "model_r2['Random Forest Regression (100 trees)'] = r2_value\n",
    "\n",
    "print('Root Mean Squared Error of the model is : {}'.format(rmse))\n",
    "print('R-squared value of the model is : {}'.format(r2_value))"
   ]
  },
  {
   "cell_type": "markdown",
   "id": "32a25237",
   "metadata": {
    "papermill": {
     "duration": 0.049676,
     "end_time": "2022-12-23T21:33:56.140557",
     "exception": false,
     "start_time": "2022-12-23T21:33:56.090881",
     "status": "completed"
    },
    "tags": []
   },
   "source": [
    "##### 5.2.10 Applying Random Forest Regression (1000 trees)"
   ]
  },
  {
   "cell_type": "code",
   "execution_count": 65,
   "id": "cc501a0b",
   "metadata": {
    "execution": {
     "iopub.execute_input": "2022-12-23T21:33:56.243795Z",
     "iopub.status.busy": "2022-12-23T21:33:56.242892Z",
     "iopub.status.idle": "2022-12-23T21:33:59.496358Z",
     "shell.execute_reply": "2022-12-23T21:33:59.494796Z"
    },
    "papermill": {
     "duration": 3.308587,
     "end_time": "2022-12-23T21:33:59.499167",
     "exception": false,
     "start_time": "2022-12-23T21:33:56.190580",
     "status": "completed"
    },
    "tags": []
   },
   "outputs": [
    {
     "data": {
      "text/plain": [
       "RandomForestRegressor(n_estimators=1000, random_state=27)"
      ]
     },
     "execution_count": 65,
     "metadata": {},
     "output_type": "execute_result"
    }
   ],
   "source": [
    "### Training the Random Forest Regression model on the Training set\n",
    "\n",
    "random_forest_regressor = RandomForestRegressor(n_estimators = 1000, random_state = 27)\n",
    "random_forest_regressor.fit(X_train, Y_train)"
   ]
  },
  {
   "cell_type": "code",
   "execution_count": 66,
   "id": "b013392b",
   "metadata": {
    "execution": {
     "iopub.execute_input": "2022-12-23T21:33:59.605669Z",
     "iopub.status.busy": "2022-12-23T21:33:59.605087Z",
     "iopub.status.idle": "2022-12-23T21:33:59.796656Z",
     "shell.execute_reply": "2022-12-23T21:33:59.795429Z"
    },
    "papermill": {
     "duration": 0.24896,
     "end_time": "2022-12-23T21:33:59.799753",
     "exception": false,
     "start_time": "2022-12-23T21:33:59.550793",
     "status": "completed"
    },
    "tags": []
   },
   "outputs": [],
   "source": [
    "### Predicting the Test set results\n",
    "\n",
    "Y_pred = random_forest_regressor.predict(X_test)"
   ]
  },
  {
   "cell_type": "code",
   "execution_count": 67,
   "id": "a72c8238",
   "metadata": {
    "execution": {
     "iopub.execute_input": "2022-12-23T21:33:59.902776Z",
     "iopub.status.busy": "2022-12-23T21:33:59.902321Z",
     "iopub.status.idle": "2022-12-23T21:33:59.913042Z",
     "shell.execute_reply": "2022-12-23T21:33:59.911524Z"
    },
    "papermill": {
     "duration": 0.067456,
     "end_time": "2022-12-23T21:33:59.917159",
     "exception": false,
     "start_time": "2022-12-23T21:33:59.849703",
     "status": "completed"
    },
    "tags": []
   },
   "outputs": [
    {
     "name": "stdout",
     "output_type": "stream",
     "text": [
      "Root Mean Squared Error of the model is : 5507.017\n",
      "R-squared value of the model is : 0.794\n"
     ]
    }
   ],
   "source": [
    "### Calculating RMSE and R-squared for the model\n",
    "\n",
    "mse = round(mean_squared_error(Y_test, Y_pred), 3)\n",
    "rmse = round(sqrt(mse), 3)\n",
    "\n",
    "r2_value = round(r2_score(Y_test, Y_pred), 3)\n",
    "\n",
    "model_rmse['Random Forest Regression (1000 trees)'] = rmse\n",
    "model_r2['Random Forest Regression (1000 trees)'] = r2_value\n",
    "\n",
    "print('Root Mean Squared Error of the model is : {}'.format(rmse))\n",
    "print('R-squared value of the model is : {}'.format(r2_value))"
   ]
  },
  {
   "cell_type": "markdown",
   "id": "14a5f545",
   "metadata": {
    "papermill": {
     "duration": 0.049972,
     "end_time": "2022-12-23T21:34:00.019637",
     "exception": false,
     "start_time": "2022-12-23T21:33:59.969665",
     "status": "completed"
    },
    "tags": []
   },
   "source": [
    "##### 5.2.11 Applying Stacking Regression"
   ]
  },
  {
   "cell_type": "code",
   "execution_count": 68,
   "id": "ca4e89cc",
   "metadata": {
    "execution": {
     "iopub.execute_input": "2022-12-23T21:34:00.123167Z",
     "iopub.status.busy": "2022-12-23T21:34:00.122723Z",
     "iopub.status.idle": "2022-12-23T21:34:00.129766Z",
     "shell.execute_reply": "2022-12-23T21:34:00.128108Z"
    },
    "papermill": {
     "duration": 0.06248,
     "end_time": "2022-12-23T21:34:00.132651",
     "exception": false,
     "start_time": "2022-12-23T21:34:00.070171",
     "status": "completed"
    },
    "tags": []
   },
   "outputs": [],
   "source": [
    "### Preparing the Stacking Regressor\n",
    "\n",
    "### Define the base models\n",
    "\n",
    "base_models = list()\n",
    "\n",
    "base_models.append(('decision_tree', decision_tree_regressor))\n",
    "base_models.append(('linear_regression', linear_regressor))\n",
    "\n",
    "### Define the meta models\n",
    "\n",
    "meta_model = random_forest_regressor"
   ]
  },
  {
   "cell_type": "code",
   "execution_count": 69,
   "id": "6862743a",
   "metadata": {
    "execution": {
     "iopub.execute_input": "2022-12-23T21:34:00.236544Z",
     "iopub.status.busy": "2022-12-23T21:34:00.235911Z",
     "iopub.status.idle": "2022-12-23T21:34:03.532464Z",
     "shell.execute_reply": "2022-12-23T21:34:03.531006Z"
    },
    "papermill": {
     "duration": 3.351912,
     "end_time": "2022-12-23T21:34:03.535396",
     "exception": false,
     "start_time": "2022-12-23T21:34:00.183484",
     "status": "completed"
    },
    "tags": []
   },
   "outputs": [
    {
     "data": {
      "text/plain": [
       "StackingRegressor(estimators=[('decision_tree', DecisionTreeRegressor()),\n",
       "                              ('linear_regression', LinearRegression())],\n",
       "                  final_estimator=RandomForestRegressor(n_estimators=1000,\n",
       "                                                        random_state=27))"
      ]
     },
     "execution_count": 69,
     "metadata": {},
     "output_type": "execute_result"
    }
   ],
   "source": [
    "### Training the Stacking Regression model on the Training set\n",
    "\n",
    "stacking_regressor = StackingRegressor(estimators = base_models, final_estimator = meta_model)\n",
    "stacking_regressor.fit(X_train, Y_train)"
   ]
  },
  {
   "cell_type": "code",
   "execution_count": 70,
   "id": "61c8dcce",
   "metadata": {
    "execution": {
     "iopub.execute_input": "2022-12-23T21:34:03.639902Z",
     "iopub.status.busy": "2022-12-23T21:34:03.639461Z",
     "iopub.status.idle": "2022-12-23T21:34:03.826322Z",
     "shell.execute_reply": "2022-12-23T21:34:03.824888Z"
    },
    "papermill": {
     "duration": 0.243159,
     "end_time": "2022-12-23T21:34:03.829521",
     "exception": false,
     "start_time": "2022-12-23T21:34:03.586362",
     "status": "completed"
    },
    "tags": []
   },
   "outputs": [],
   "source": [
    "### Predicting the Test set results\n",
    "\n",
    "Y_pred = stacking_regressor.predict(X_test)"
   ]
  },
  {
   "cell_type": "code",
   "execution_count": 71,
   "id": "00d44429",
   "metadata": {
    "execution": {
     "iopub.execute_input": "2022-12-23T21:34:03.933298Z",
     "iopub.status.busy": "2022-12-23T21:34:03.932822Z",
     "iopub.status.idle": "2022-12-23T21:34:03.941670Z",
     "shell.execute_reply": "2022-12-23T21:34:03.940278Z"
    },
    "papermill": {
     "duration": 0.064577,
     "end_time": "2022-12-23T21:34:03.944811",
     "exception": false,
     "start_time": "2022-12-23T21:34:03.880234",
     "status": "completed"
    },
    "tags": []
   },
   "outputs": [
    {
     "name": "stdout",
     "output_type": "stream",
     "text": [
      "Root Mean Squared Error of the model is : 5267.051\n",
      "R-squared value of the model is : 0.812\n"
     ]
    }
   ],
   "source": [
    "### Calculating RMSE and R-squared for the model\n",
    "\n",
    "mse = round(mean_squared_error(Y_test, Y_pred), 3)\n",
    "rmse = round(sqrt(mse), 3)\n",
    "\n",
    "r2_value = round(r2_score(Y_test, Y_pred), 3)\n",
    "\n",
    "model_rmse['Stacking Regression'] = rmse\n",
    "model_r2['Stacking Regression'] = r2_value\n",
    "\n",
    "print('Root Mean Squared Error of the model is : {}'.format(rmse))\n",
    "print('R-squared value of the model is : {}'.format(r2_value))"
   ]
  },
  {
   "cell_type": "markdown",
   "id": "e8a864a4",
   "metadata": {
    "papermill": {
     "duration": 0.049954,
     "end_time": "2022-12-23T21:34:04.044597",
     "exception": false,
     "start_time": "2022-12-23T21:34:03.994643",
     "status": "completed"
    },
    "tags": []
   },
   "source": [
    "##### 5.2.12 Applying XGBoost Regression"
   ]
  },
  {
   "cell_type": "code",
   "execution_count": 72,
   "id": "0f137832",
   "metadata": {
    "execution": {
     "iopub.execute_input": "2022-12-23T21:34:04.149156Z",
     "iopub.status.busy": "2022-12-23T21:34:04.148697Z",
     "iopub.status.idle": "2022-12-23T21:34:04.706212Z",
     "shell.execute_reply": "2022-12-23T21:34:04.705262Z"
    },
    "papermill": {
     "duration": 0.613134,
     "end_time": "2022-12-23T21:34:04.708785",
     "exception": false,
     "start_time": "2022-12-23T21:34:04.095651",
     "status": "completed"
    },
    "tags": []
   },
   "outputs": [
    {
     "name": "stdout",
     "output_type": "stream",
     "text": [
      "[06:59:07] WARNING: C:/buildkite-agent/builds/buildkite-windows-cpu-autoscaling-group-i-030221e36e1a46bfb-1/xgboost/xgboost-ci-windows/src/objective/regression_obj.cu:213: reg:linear is now deprecated in favor of reg:squarederror.\n"
     ]
    },
    {
     "data": {
      "text/plain": [
       "XGBRegressor(base_score=0.5, booster='gbtree', callbacks=None,\n",
       "             colsample_bylevel=1, colsample_bynode=1, colsample_bytree=1,\n",
       "             early_stopping_rounds=None, enable_categorical=False,\n",
       "             eval_metric=None, feature_types=None, gamma=0, gpu_id=-1,\n",
       "             grow_policy='depthwise', importance_type=None,\n",
       "             interaction_constraints='', learning_rate=0.300000012, max_bin=256,\n",
       "             max_cat_threshold=64, max_cat_to_onehot=4, max_delta_step=0,\n",
       "             max_depth=6, max_leaves=0, min_child_weight=1, missing=nan,\n",
       "             monotone_constraints='()', n_estimators=100, n_jobs=0,\n",
       "             num_parallel_tree=1, objective='reg:linear', predictor='auto', ...)"
      ]
     },
     "execution_count": 72,
     "metadata": {},
     "output_type": "execute_result"
    }
   ],
   "source": [
    "### Training the XGBoost Regression model on the Training set\n",
    "\n",
    "xgboost_regressor = xg.XGBRegressor(objective ='reg:linear', n_estimators = 100, seed = 27)\n",
    "xgboost_regressor.fit(X_train, Y_train)"
   ]
  },
  {
   "cell_type": "code",
   "execution_count": 73,
   "id": "9d1e7c4b",
   "metadata": {
    "execution": {
     "iopub.execute_input": "2022-12-23T21:34:04.823841Z",
     "iopub.status.busy": "2022-12-23T21:34:04.823358Z",
     "iopub.status.idle": "2022-12-23T21:34:04.833567Z",
     "shell.execute_reply": "2022-12-23T21:34:04.832271Z"
    },
    "papermill": {
     "duration": 0.072475,
     "end_time": "2022-12-23T21:34:04.836513",
     "exception": false,
     "start_time": "2022-12-23T21:34:04.764038",
     "status": "completed"
    },
    "tags": []
   },
   "outputs": [],
   "source": [
    "### Predicting the Test set results\n",
    "\n",
    "Y_pred = xgboost_regressor.predict(X_test)"
   ]
  },
  {
   "cell_type": "code",
   "execution_count": 74,
   "id": "cb9a48c7",
   "metadata": {
    "execution": {
     "iopub.execute_input": "2022-12-23T21:34:04.941011Z",
     "iopub.status.busy": "2022-12-23T21:34:04.940558Z",
     "iopub.status.idle": "2022-12-23T21:34:04.949914Z",
     "shell.execute_reply": "2022-12-23T21:34:04.948482Z"
    },
    "papermill": {
     "duration": 0.066331,
     "end_time": "2022-12-23T21:34:04.954314",
     "exception": false,
     "start_time": "2022-12-23T21:34:04.887983",
     "status": "completed"
    },
    "tags": []
   },
   "outputs": [
    {
     "name": "stdout",
     "output_type": "stream",
     "text": [
      "Root Mean Squared Error of the model is : 5450.901\n",
      "R-squared value of the model is : 0.798\n"
     ]
    }
   ],
   "source": [
    "### Calculating RMSE and R-squared for the model\n",
    "\n",
    "mse = round(mean_squared_error(Y_test, Y_pred), 3)\n",
    "rmse = round(sqrt(mse), 3)\n",
    "\n",
    "r2_value = round(r2_score(Y_test, Y_pred), 3)\n",
    "\n",
    "model_rmse['XGBoost Regression'] = rmse\n",
    "model_r2['XGBoost Regression'] = r2_value\n",
    "\n",
    "print('Root Mean Squared Error of the model is : {}'.format(rmse))\n",
    "print('R-squared value of the model is : {}'.format(r2_value))"
   ]
  },
  {
   "cell_type": "markdown",
   "id": "c7403346",
   "metadata": {
    "papermill": {
     "duration": 0.051975,
     "end_time": "2022-12-23T21:34:05.057642",
     "exception": false,
     "start_time": "2022-12-23T21:34:05.005667",
     "status": "completed"
    },
    "tags": []
   },
   "source": [
    "#### 5.3 Model evaluation"
   ]
  },
  {
   "cell_type": "markdown",
   "id": "05cd352d",
   "metadata": {
    "papermill": {
     "duration": 0.05065,
     "end_time": "2022-12-23T21:34:05.159690",
     "exception": false,
     "start_time": "2022-12-23T21:34:05.109040",
     "status": "completed"
    },
    "tags": []
   },
   "source": [
    "Model evaluation is the process of using different evaluation metrics to understand a machine learning model's performance, as well as its strengths and weaknesses."
   ]
  },
  {
   "cell_type": "markdown",
   "id": "795f583b",
   "metadata": {
    "papermill": {
     "duration": 0.050815,
     "end_time": "2022-12-23T21:34:05.261755",
     "exception": false,
     "start_time": "2022-12-23T21:34:05.210940",
     "status": "completed"
    },
    "tags": []
   },
   "source": [
    "##### 5.3.1 RMSE, R-squared of the models"
   ]
  },
  {
   "cell_type": "markdown",
   "id": "6f4d516e",
   "metadata": {
    "papermill": {
     "duration": 0.05058,
     "end_time": "2022-12-23T21:34:05.363708",
     "exception": false,
     "start_time": "2022-12-23T21:34:05.313128",
     "status": "completed"
    },
    "tags": []
   },
   "source": [
    "Now we will tabulate all the models along with their RMSE, R-Squared. This data is stored in the model_rmse, model_r2 dictionary. We will use the tabulate package for tabulating the results."
   ]
  },
  {
   "cell_type": "code",
   "execution_count": 75,
   "id": "4834c090",
   "metadata": {
    "execution": {
     "iopub.execute_input": "2022-12-23T21:34:05.468764Z",
     "iopub.status.busy": "2022-12-23T21:34:05.467891Z",
     "iopub.status.idle": "2022-12-23T21:34:05.477372Z",
     "shell.execute_reply": "2022-12-23T21:34:05.475717Z"
    },
    "papermill": {
     "duration": 0.065524,
     "end_time": "2022-12-23T21:34:05.480191",
     "exception": false,
     "start_time": "2022-12-23T21:34:05.414667",
     "status": "completed"
    },
    "tags": []
   },
   "outputs": [
    {
     "data": {
      "text/plain": [
       "OrderedDict([('Multi Linear Regression', 6310.64),\n",
       "             ('Decision Tree Regression', 7483.828),\n",
       "             ('Random Forest Regression (50 trees)', 5627.492),\n",
       "             ('Random Forest Regression (100 trees)', 5568.514),\n",
       "             ('Random Forest Regression (1000 trees)', 5507.017),\n",
       "             ('Stacking Regression', 5267.051),\n",
       "             ('XGBoost Regression', 5450.901)])"
      ]
     },
     "execution_count": 75,
     "metadata": {},
     "output_type": "execute_result"
    }
   ],
   "source": [
    "### Looking at the model rmse dictionary\n",
    "\n",
    "model_rmse"
   ]
  },
  {
   "cell_type": "code",
   "execution_count": 76,
   "id": "0c642392",
   "metadata": {
    "execution": {
     "iopub.execute_input": "2022-12-23T21:34:05.587810Z",
     "iopub.status.busy": "2022-12-23T21:34:05.587317Z",
     "iopub.status.idle": "2022-12-23T21:34:05.598025Z",
     "shell.execute_reply": "2022-12-23T21:34:05.596301Z"
    },
    "papermill": {
     "duration": 0.069109,
     "end_time": "2022-12-23T21:34:05.602193",
     "exception": false,
     "start_time": "2022-12-23T21:34:05.533084",
     "status": "completed"
    },
    "tags": []
   },
   "outputs": [
    {
     "data": {
      "text/plain": [
       "OrderedDict([('Multi Linear Regression', 0.729),\n",
       "             ('Decision Tree Regression', 0.62),\n",
       "             ('Random Forest Regression (50 trees)', 0.785),\n",
       "             ('Random Forest Regression (100 trees)', 0.789),\n",
       "             ('Random Forest Regression (1000 trees)', 0.794),\n",
       "             ('Stacking Regression', 0.812),\n",
       "             ('XGBoost Regression', 0.798)])"
      ]
     },
     "execution_count": 76,
     "metadata": {},
     "output_type": "execute_result"
    }
   ],
   "source": [
    "### Looking at the model r-squared dictionary\n",
    "\n",
    "model_r2"
   ]
  },
  {
   "cell_type": "code",
   "execution_count": 77,
   "id": "8be4cc65",
   "metadata": {
    "execution": {
     "iopub.execute_input": "2022-12-23T21:34:05.710567Z",
     "iopub.status.busy": "2022-12-23T21:34:05.710086Z",
     "iopub.status.idle": "2022-12-23T21:34:05.721373Z",
     "shell.execute_reply": "2022-12-23T21:34:05.719802Z"
    },
    "papermill": {
     "duration": 0.067012,
     "end_time": "2022-12-23T21:34:05.724898",
     "exception": false,
     "start_time": "2022-12-23T21:34:05.657886",
     "status": "completed"
    },
    "tags": []
   },
   "outputs": [
    {
     "name": "stdout",
     "output_type": "stream",
     "text": [
      "╒═════════╤═══════════════════════════════════════╤═══════════════════════════╤═════════════╕\n",
      "│   S.No. │ Classification Model                  │   Root Mean Squared Error │   R-squared │\n",
      "╞═════════╪═══════════════════════════════════════╪═══════════════════════════╪═════════════╡\n",
      "│       1 │ Multi Linear Regression               │                   6310.64 │       0.729 │\n",
      "├─────────┼───────────────────────────────────────┼───────────────────────────┼─────────────┤\n",
      "│       2 │ Decision Tree Regression              │                   7483.83 │       0.62  │\n",
      "├─────────┼───────────────────────────────────────┼───────────────────────────┼─────────────┤\n",
      "│       3 │ Random Forest Regression (50 trees)   │                   5627.49 │       0.785 │\n",
      "├─────────┼───────────────────────────────────────┼───────────────────────────┼─────────────┤\n",
      "│       4 │ Random Forest Regression (100 trees)  │                   5568.51 │       0.789 │\n",
      "├─────────┼───────────────────────────────────────┼───────────────────────────┼─────────────┤\n",
      "│       5 │ Random Forest Regression (1000 trees) │                   5507.02 │       0.794 │\n",
      "├─────────┼───────────────────────────────────────┼───────────────────────────┼─────────────┤\n",
      "│       6 │ Stacking Regression                   │                   5267.05 │       0.812 │\n",
      "├─────────┼───────────────────────────────────────┼───────────────────────────┼─────────────┤\n",
      "│       7 │ XGBoost Regression                    │                   5450.9  │       0.798 │\n",
      "╘═════════╧═══════════════════════════════════════╧═══════════════════════════╧═════════════╛\n"
     ]
    }
   ],
   "source": [
    "### Tabulating the results\n",
    "\n",
    "table = []\n",
    "table.append(['S.No.', 'Classification Model', 'Root Mean Squared Error', 'R-squared'])\n",
    "count = 1\n",
    "\n",
    "for model in model_rmse:\n",
    "    row = [count, model, model_rmse[model], model_r2[model]]\n",
    "    table.append(row)\n",
    "    count += 1\n",
    "    \n",
    "print(tabulate(table, headers = 'firstrow', tablefmt = 'fancy_grid'))"
   ]
  },
  {
   "cell_type": "markdown",
   "id": "5fe845a5",
   "metadata": {
    "papermill": {
     "duration": 0.050688,
     "end_time": "2022-12-23T21:34:05.827055",
     "exception": false,
     "start_time": "2022-12-23T21:34:05.776367",
     "status": "completed"
    },
    "tags": []
   },
   "source": [
    "From the above table, we can see that the model Stacking Regression has the least Root Mean Squared Error of 5270.6 and the highest R-squared value of 0.811."
   ]
  },
  {
   "cell_type": "markdown",
   "id": "d428a67b",
   "metadata": {
    "papermill": {
     "duration": 0.051681,
     "end_time": "2022-12-23T21:34:05.930112",
     "exception": false,
     "start_time": "2022-12-23T21:34:05.878431",
     "status": "completed"
    },
    "tags": []
   },
   "source": [
    "### 6. Conclusion"
   ]
  },
  {
   "cell_type": "markdown",
   "id": "f9aee876",
   "metadata": {
    "papermill": {
     "duration": 0.050805,
     "end_time": "2022-12-23T21:34:06.032588",
     "exception": false,
     "start_time": "2022-12-23T21:34:05.981783",
     "status": "completed"
    },
    "tags": []
   },
   "source": [
    "Hence, for this problem, we will use the Stacking regressor to predict the Health Insurance Cost for an individual."
   ]
  }
 ],
 "metadata": {
  "kernelspec": {
   "display_name": "Python 3 (ipykernel)",
   "language": "python",
   "name": "python3"
  },
  "language_info": {
   "codemirror_mode": {
    "name": "ipython",
    "version": 3
   },
   "file_extension": ".py",
   "mimetype": "text/x-python",
   "name": "python",
   "nbconvert_exporter": "python",
   "pygments_lexer": "ipython3",
   "version": "3.9.12"
  },
  "papermill": {
   "default_parameters": {},
   "duration": 50.39273,
   "end_time": "2022-12-23T21:34:07.312094",
   "environment_variables": {},
   "exception": null,
   "input_path": "__notebook__.ipynb",
   "output_path": "__notebook__.ipynb",
   "parameters": {},
   "start_time": "2022-12-23T21:33:16.919364",
   "version": "2.3.4"
  }
 },
 "nbformat": 4,
 "nbformat_minor": 5
}
